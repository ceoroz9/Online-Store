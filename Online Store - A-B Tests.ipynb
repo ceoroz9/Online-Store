{
 "cells": [
  {
   "cell_type": "markdown",
   "metadata": {},
   "source": [
    "# Hola Cesar\n",
    "\n",
    "Mi nombre es David Bautista, soy code reviewer de Practicum y voy a revisar el proyecto que acabas de desarrollar.\n",
    "\n",
    "Cuando vea un error la primera vez, lo señalaré. Deberás encontrarlo y arreglarlo. La intención es que te prepares para un espacio real de trabajo. En un trabajo, el líder de tu equipo hará lo mismo. Si no puedes solucionar el error, te daré más información en la próxima ocasión.\n",
    "\n",
    "Encontrarás mis comentarios más abajo - **por favor, no los muevas, no los modifiques ni los borres.**\n",
    "\n",
    "¿Cómo lo voy a hacer? Voy a leer detenidamente cada una de las implementaciones que has llevado a cabo para cumplir con lo solicitado. Verás los comentarios de esta forma:\n",
    "\n",
    "\n",
    "<div class=\"alert alert-block alert-success\">\n",
    "<b>Comentario del revisor</b> <a class=\"tocSkip\"></a>\n",
    "    \n",
    "Si todo está perfecto.\n",
    "</div>\n",
    "\n",
    "\n",
    "<div class=\"alert alert-block alert-warning\">\n",
    "<b>Comentario del revisor</b> <a class=\"tocSkip\"></a>\n",
    "    \n",
    "Si tu código está bien pero se puede mejorar o hay algún detalle que le hace falta.\n",
    "</div>\n",
    "\n",
    "\n",
    "<div class=\"alert alert-block alert-danger\">\n",
    "    \n",
    "<b>Comentario del revisor</b> <a class=\"tocSkip\"></a>\n",
    "    \n",
    "    \n",
    "Si de pronto hace falta algo o existe algún problema con tu código o conclusiones.\n",
    "</div>\n",
    "\n",
    "\n",
    "Puedes responderme de esta forma:\n",
    "\n",
    "<div class=\"alert alert-block alert-info\">\n",
    "<b>Respuesta del estudiante</b> <a class=\"tocSkip\"></a>\n",
    "</div>\n",
    "\n",
    "¡Empecemos!"
   ]
  },
  {
   "cell_type": "markdown",
   "metadata": {},
   "source": [
    "# Introducción\n",
    "\n",
    "Me desempeño como analista en una tienda online importante. En colaboración con el equipo de marketing, hemos creado una lista de ideas que podrían impulsar las ventas.\n",
    "\n",
    "Mi tarea consiste en priorizar estas ideas, realizar pruebas A/B y evaluar los resultados al final."
   ]
  },
  {
   "cell_type": "markdown",
   "metadata": {},
   "source": [
    "# Descripción de la data\n",
    "\n",
    "Conjunto de datos \"hipotheses_us.csv\"\n",
    "\n",
    "- Hypotheses - Breves descripciones de las hipótesis\n",
    "- Reach - Alcance de usuarios\n",
    "- Impact - Impacto en los usuarios\n",
    "- Confidence - Confianza en la hipótesis\n",
    "- Effort - Recursos necesarios para probar una hipótesis. Cuanto mayor sea el valor de esfuerzo, más recursos requerirá la prueba.\n",
    "\n",
    "Conjunto de datos \"orders_us.csv\"\n",
    "\n",
    "- transactionId - Identificador del pedido\n",
    "- visitorId - Identificador del usuario que realizó el pedido\n",
    "- date - Fecha del pedido\n",
    "- revenue - Ingresos del pedido\n",
    "- group - Grupo de prueba A/B al que pertenece el usuario\n",
    "\n",
    "Conjunto de datos \"visits_us.csv\"\n",
    "\n",
    "- date - Fecha\n",
    "- group - Grupo de prueba A/B\n",
    "- visits - Número de visitas en la fecha especificada en el grupo de prueba A/B especificado"
   ]
  },
  {
   "cell_type": "markdown",
   "metadata": {},
   "source": [
    "<div class=\"alert alert-block alert-success\">\n",
    "    \n",
    "<b>Comentario del revisor</b> <a class=\"tocSkip\"></a>\n",
    "    \n",
    "Buen trabajo con la introducción del proyecto.</div>"
   ]
  },
  {
   "cell_type": "markdown",
   "metadata": {},
   "source": [
    "## Descargue de datos y preparación para el análisis."
   ]
  },
  {
   "cell_type": "code",
   "execution_count": 1,
   "metadata": {},
   "outputs": [],
   "source": [
    "import pandas   as pd\n",
    "from scipy import stats as st\n",
    "import numpy as np\n",
    "import math\n",
    "import matplotlib.pyplot as plt\n",
    "import matplotlib.ticker as ticker\n",
    "import seaborn as sns\n",
    "from pandas.plotting import register_matplotlib_converters\n",
    "\n",
    "register_matplotlib_converters()\n",
    "pd.options.display.float_format = \"{:.2f}\".format\n",
    "pd.set_option('display.max_colwidth', 400)"
   ]
  },
  {
   "cell_type": "markdown",
   "metadata": {},
   "source": [
    "<div class=\"alert alert-block alert-success\">\n",
    "    \n",
    "<b>Comentario del revisor</b> <a class=\"tocSkip\"></a>\n",
    "    \n",
    "Buen trabajo con el importe de las librerias.</div>"
   ]
  },
  {
   "cell_type": "markdown",
   "metadata": {},
   "source": [
    "### Análisis preliminar de la estructura de datos."
   ]
  },
  {
   "cell_type": "code",
   "execution_count": 2,
   "metadata": {},
   "outputs": [],
   "source": [
    "hypotheses_path  = 'hypotheses_us.csv'\n",
    "visits_path      = 'visits_us.csv'\n",
    "orders_path      = 'orders_us.csv'\n",
    "platform_path    = 'https://code.s3.yandex.net/datasets/'\n",
    "\n",
    "try:\n",
    "    hypotheses = pd.read_csv(hypotheses_path, sep=';', nrows=500)\n",
    "    visits     = pd.read_csv(visits_path, nrows=500)\n",
    "    orders     = pd.read_csv(orders_path, nrows=500)\n",
    "except:\n",
    "    hypotheses = pd.read_csv(platform_path+hypotheses_path, sep=';', nrows=500)\n",
    "    visits     = pd.read_csv(platform_path+visits_path, nrows=500)\n",
    "    orders     = pd.read_csv(platform_path+orders_path, nrows=500)"
   ]
  },
  {
   "cell_type": "markdown",
   "metadata": {},
   "source": [
    "<div class=\"alert alert-block alert-success\">\n",
    "    \n",
    "<b>Comentario del revisor</b> <a class=\"tocSkip\"></a>\n",
    "    \n",
    "Buen trabajo con la carga de los datos.</div>"
   ]
  },
  {
   "cell_type": "markdown",
   "metadata": {},
   "source": [
    "### Preprocesamiento de datos"
   ]
  },
  {
   "cell_type": "code",
   "execution_count": 3,
   "metadata": {},
   "outputs": [
    {
     "name": "stdout",
     "output_type": "stream",
     "text": [
      "<class 'pandas.core.frame.DataFrame'>\n",
      "RangeIndex: 9 entries, 0 to 8\n",
      "Data columns (total 5 columns):\n",
      " #   Column      Non-Null Count  Dtype \n",
      "---  ------      --------------  ----- \n",
      " 0   Hypothesis  9 non-null      object\n",
      " 1   Reach       9 non-null      int64 \n",
      " 2   Impact      9 non-null      int64 \n",
      " 3   Confidence  9 non-null      int64 \n",
      " 4   Effort      9 non-null      int64 \n",
      "dtypes: int64(4), object(1)\n",
      "memory usage: 488.0+ bytes\n"
     ]
    }
   ],
   "source": [
    "hypotheses.info()"
   ]
  },
  {
   "cell_type": "code",
   "execution_count": 4,
   "metadata": {},
   "outputs": [
    {
     "name": "stdout",
     "output_type": "stream",
     "text": [
      "<class 'pandas.core.frame.DataFrame'>\n",
      "RangeIndex: 62 entries, 0 to 61\n",
      "Data columns (total 3 columns):\n",
      " #   Column  Non-Null Count  Dtype \n",
      "---  ------  --------------  ----- \n",
      " 0   date    62 non-null     object\n",
      " 1   group   62 non-null     object\n",
      " 2   visits  62 non-null     int64 \n",
      "dtypes: int64(1), object(2)\n",
      "memory usage: 1.6+ KB\n"
     ]
    }
   ],
   "source": [
    "visits.info()"
   ]
  },
  {
   "cell_type": "code",
   "execution_count": 5,
   "metadata": {},
   "outputs": [
    {
     "data": {
      "text/plain": [
       "A    31\n",
       "B    31\n",
       "Name: group, dtype: int64"
      ]
     },
     "execution_count": 5,
     "metadata": {},
     "output_type": "execute_result"
    }
   ],
   "source": [
    "visits['group'].value_counts()"
   ]
  },
  {
   "cell_type": "markdown",
   "metadata": {},
   "source": [
    "Tengo que convertir el campo \"group\" al tipo categoría, y el campo \"date\" al tipo DateTime."
   ]
  },
  {
   "cell_type": "code",
   "execution_count": 6,
   "metadata": {},
   "outputs": [
    {
     "name": "stdout",
     "output_type": "stream",
     "text": [
      "<class 'pandas.core.frame.DataFrame'>\n",
      "RangeIndex: 500 entries, 0 to 499\n",
      "Data columns (total 5 columns):\n",
      " #   Column         Non-Null Count  Dtype  \n",
      "---  ------         --------------  -----  \n",
      " 0   transactionId  500 non-null    int64  \n",
      " 1   visitorId      500 non-null    int64  \n",
      " 2   date           500 non-null    object \n",
      " 3   revenue        500 non-null    float64\n",
      " 4   group          500 non-null    object \n",
      "dtypes: float64(1), int64(2), object(2)\n",
      "memory usage: 19.7+ KB\n"
     ]
    }
   ],
   "source": [
    "orders.info()"
   ]
  },
  {
   "cell_type": "code",
   "execution_count": 7,
   "metadata": {},
   "outputs": [
    {
     "data": {
      "text/plain": [
       "B    266\n",
       "A    234\n",
       "Name: group, dtype: int64"
      ]
     },
     "execution_count": 7,
     "metadata": {},
     "output_type": "execute_result"
    }
   ],
   "source": [
    "orders['group'].value_counts()"
   ]
  },
  {
   "cell_type": "markdown",
   "metadata": {},
   "source": [
    "Nuevamente, tengo que convertir el campo \"group\" al tipo categoría, y el campo \"date\" al tipo DateTime."
   ]
  },
  {
   "cell_type": "code",
   "execution_count": 8,
   "metadata": {},
   "outputs": [],
   "source": [
    "visits['group'] = visits['group'].astype('category')\n",
    "orders['group'] = orders['group'].astype('category')"
   ]
  },
  {
   "cell_type": "markdown",
   "metadata": {},
   "source": [
    "<div class=\"alert alert-block alert-danger\">\n",
    "    \n",
    "<b>Comentario del revisor</b> <a class=\"tocSkip\"></a>\n",
    "    \n",
    "~~Podrías realizar el cambio del tipo de variable sin necesidad de usar un método de cargue de datos.~~</div>"
   ]
  },
  {
   "cell_type": "markdown",
   "metadata": {},
   "source": [
    "<div class=\"alert alert-block alert-info\">\n",
    "<b>Listo! Lo he modificado. Gracias por el comentario</b> <a class=\"tocSkip\"></a>\n",
    "</div>"
   ]
  },
  {
   "cell_type": "markdown",
   "metadata": {},
   "source": [
    "<div class=\"alert alert-block alert-success\">\n",
    "    \n",
    "<b>Comentario del revisor #2</b> <a class=\"tocSkip\"></a>\n",
    "    \n",
    "Buen trabajo.</div>"
   ]
  },
  {
   "cell_type": "code",
   "execution_count": 10,
   "metadata": {},
   "outputs": [
    {
     "name": "stdout",
     "output_type": "stream",
     "text": [
      "<class 'pandas.core.frame.DataFrame'>\n",
      "RangeIndex: 9 entries, 0 to 8\n",
      "Data columns (total 5 columns):\n",
      " #   Column      Non-Null Count  Dtype \n",
      "---  ------      --------------  ----- \n",
      " 0   Hypothesis  9 non-null      object\n",
      " 1   Reach       9 non-null      int64 \n",
      " 2   Impact      9 non-null      int64 \n",
      " 3   Confidence  9 non-null      int64 \n",
      " 4   Effort      9 non-null      int64 \n",
      "dtypes: int64(4), object(1)\n",
      "memory usage: 488.0+ bytes\n"
     ]
    }
   ],
   "source": [
    "hypotheses.info()"
   ]
  },
  {
   "cell_type": "code",
   "execution_count": 11,
   "metadata": {},
   "outputs": [
    {
     "data": {
      "text/plain": [
       "0"
      ]
     },
     "execution_count": 11,
     "metadata": {},
     "output_type": "execute_result"
    }
   ],
   "source": [
    "hypotheses['Hypothesis'].duplicated().sum()"
   ]
  },
  {
   "cell_type": "markdown",
   "metadata": {},
   "source": [
    "- No se encontraron duplicados"
   ]
  },
  {
   "cell_type": "code",
   "execution_count": 12,
   "metadata": {},
   "outputs": [
    {
     "data": {
      "text/html": [
       "<div>\n",
       "<style scoped>\n",
       "    .dataframe tbody tr th:only-of-type {\n",
       "        vertical-align: middle;\n",
       "    }\n",
       "\n",
       "    .dataframe tbody tr th {\n",
       "        vertical-align: top;\n",
       "    }\n",
       "\n",
       "    .dataframe thead th {\n",
       "        text-align: right;\n",
       "    }\n",
       "</style>\n",
       "<table border=\"1\" class=\"dataframe\">\n",
       "  <thead>\n",
       "    <tr style=\"text-align: right;\">\n",
       "      <th></th>\n",
       "      <th>Hypothesis</th>\n",
       "      <th>Reach</th>\n",
       "      <th>Impact</th>\n",
       "      <th>Confidence</th>\n",
       "      <th>Effort</th>\n",
       "    </tr>\n",
       "  </thead>\n",
       "  <tbody>\n",
       "    <tr>\n",
       "      <th>0</th>\n",
       "      <td>Add two new channels for attracting traffic. This will bring 30% more users</td>\n",
       "      <td>3</td>\n",
       "      <td>10</td>\n",
       "      <td>8</td>\n",
       "      <td>6</td>\n",
       "    </tr>\n",
       "    <tr>\n",
       "      <th>1</th>\n",
       "      <td>Launch your own delivery service. This will shorten delivery time</td>\n",
       "      <td>2</td>\n",
       "      <td>5</td>\n",
       "      <td>4</td>\n",
       "      <td>10</td>\n",
       "    </tr>\n",
       "    <tr>\n",
       "      <th>2</th>\n",
       "      <td>Add product recommendation blocks to the store's site. This will increase conversion and average purchase size</td>\n",
       "      <td>8</td>\n",
       "      <td>3</td>\n",
       "      <td>7</td>\n",
       "      <td>3</td>\n",
       "    </tr>\n",
       "    <tr>\n",
       "      <th>3</th>\n",
       "      <td>Change the category structure. This will increase conversion since users will find the products they want more quickly</td>\n",
       "      <td>8</td>\n",
       "      <td>3</td>\n",
       "      <td>3</td>\n",
       "      <td>8</td>\n",
       "    </tr>\n",
       "    <tr>\n",
       "      <th>4</th>\n",
       "      <td>Change the background color on the main page. This will increase user engagement</td>\n",
       "      <td>3</td>\n",
       "      <td>1</td>\n",
       "      <td>1</td>\n",
       "      <td>1</td>\n",
       "    </tr>\n",
       "    <tr>\n",
       "      <th>5</th>\n",
       "      <td>Add a customer review page. This will increase the number of orders</td>\n",
       "      <td>3</td>\n",
       "      <td>2</td>\n",
       "      <td>2</td>\n",
       "      <td>3</td>\n",
       "    </tr>\n",
       "    <tr>\n",
       "      <th>6</th>\n",
       "      <td>Show banners with current offers and sales on the main page. This will boost conversion</td>\n",
       "      <td>5</td>\n",
       "      <td>3</td>\n",
       "      <td>8</td>\n",
       "      <td>3</td>\n",
       "    </tr>\n",
       "    <tr>\n",
       "      <th>7</th>\n",
       "      <td>Add a subscription form to all the main pages. This will help you compile a mailing list</td>\n",
       "      <td>10</td>\n",
       "      <td>7</td>\n",
       "      <td>8</td>\n",
       "      <td>5</td>\n",
       "    </tr>\n",
       "    <tr>\n",
       "      <th>8</th>\n",
       "      <td>Launch a promotion that gives users discounts on their birthdays</td>\n",
       "      <td>1</td>\n",
       "      <td>9</td>\n",
       "      <td>9</td>\n",
       "      <td>5</td>\n",
       "    </tr>\n",
       "  </tbody>\n",
       "</table>\n",
       "</div>"
      ],
      "text/plain": [
       "                                                                                                               Hypothesis  \\\n",
       "0                                             Add two new channels for attracting traffic. This will bring 30% more users   \n",
       "1                                                       Launch your own delivery service. This will shorten delivery time   \n",
       "2          Add product recommendation blocks to the store's site. This will increase conversion and average purchase size   \n",
       "3  Change the category structure. This will increase conversion since users will find the products they want more quickly   \n",
       "4                                        Change the background color on the main page. This will increase user engagement   \n",
       "5                                                     Add a customer review page. This will increase the number of orders   \n",
       "6                                 Show banners with current offers and sales on the main page. This will boost conversion   \n",
       "7                                Add a subscription form to all the main pages. This will help you compile a mailing list   \n",
       "8                                                        Launch a promotion that gives users discounts on their birthdays   \n",
       "\n",
       "   Reach  Impact  Confidence  Effort  \n",
       "0      3      10           8       6  \n",
       "1      2       5           4      10  \n",
       "2      8       3           7       3  \n",
       "3      8       3           3       8  \n",
       "4      3       1           1       1  \n",
       "5      3       2           2       3  \n",
       "6      5       3           8       3  \n",
       "7     10       7           8       5  \n",
       "8      1       9           9       5  "
      ]
     },
     "execution_count": 12,
     "metadata": {},
     "output_type": "execute_result"
    }
   ],
   "source": [
    "hypotheses"
   ]
  },
  {
   "cell_type": "code",
   "execution_count": 13,
   "metadata": {},
   "outputs": [
    {
     "name": "stdout",
     "output_type": "stream",
     "text": [
      "<class 'pandas.core.frame.DataFrame'>\n",
      "RangeIndex: 62 entries, 0 to 61\n",
      "Data columns (total 3 columns):\n",
      " #   Column  Non-Null Count  Dtype   \n",
      "---  ------  --------------  -----   \n",
      " 0   date    62 non-null     object  \n",
      " 1   group   62 non-null     category\n",
      " 2   visits  62 non-null     int64   \n",
      "dtypes: category(1), int64(1), object(1)\n",
      "memory usage: 1.3+ KB\n"
     ]
    }
   ],
   "source": [
    "visits.info()"
   ]
  },
  {
   "cell_type": "code",
   "execution_count": 14,
   "metadata": {},
   "outputs": [
    {
     "data": {
      "text/plain": [
       "0"
      ]
     },
     "execution_count": 14,
     "metadata": {},
     "output_type": "execute_result"
    }
   ],
   "source": [
    "visits[['date','group']].duplicated().sum()"
   ]
  },
  {
   "cell_type": "markdown",
   "metadata": {},
   "source": [
    "- No se encontraron duplicados"
   ]
  },
  {
   "cell_type": "code",
   "execution_count": 15,
   "metadata": {},
   "outputs": [
    {
     "name": "stdout",
     "output_type": "stream",
     "text": [
      "<class 'pandas.core.frame.DataFrame'>\n",
      "RangeIndex: 500 entries, 0 to 499\n",
      "Data columns (total 5 columns):\n",
      " #   Column         Non-Null Count  Dtype   \n",
      "---  ------         --------------  -----   \n",
      " 0   transactionId  500 non-null    int64   \n",
      " 1   visitorId      500 non-null    int64   \n",
      " 2   date           500 non-null    object  \n",
      " 3   revenue        500 non-null    float64 \n",
      " 4   group          500 non-null    category\n",
      "dtypes: category(1), float64(1), int64(2), object(1)\n",
      "memory usage: 16.4+ KB\n"
     ]
    }
   ],
   "source": [
    "orders.info()"
   ]
  },
  {
   "cell_type": "code",
   "execution_count": 16,
   "metadata": {},
   "outputs": [
    {
     "data": {
      "text/plain": [
       "0"
      ]
     },
     "execution_count": 16,
     "metadata": {},
     "output_type": "execute_result"
    }
   ],
   "source": [
    "orders.duplicated().sum()"
   ]
  },
  {
   "cell_type": "markdown",
   "metadata": {},
   "source": [
    "- No se encontraron duplicados"
   ]
  },
  {
   "cell_type": "code",
   "execution_count": 17,
   "metadata": {},
   "outputs": [
    {
     "data": {
      "text/html": [
       "<div>\n",
       "<style scoped>\n",
       "    .dataframe tbody tr th:only-of-type {\n",
       "        vertical-align: middle;\n",
       "    }\n",
       "\n",
       "    .dataframe tbody tr th {\n",
       "        vertical-align: top;\n",
       "    }\n",
       "\n",
       "    .dataframe thead th {\n",
       "        text-align: right;\n",
       "    }\n",
       "</style>\n",
       "<table border=\"1\" class=\"dataframe\">\n",
       "  <thead>\n",
       "    <tr style=\"text-align: right;\">\n",
       "      <th></th>\n",
       "      <th>transactionId</th>\n",
       "      <th>visitorId</th>\n",
       "      <th>date</th>\n",
       "      <th>revenue</th>\n",
       "      <th>group</th>\n",
       "    </tr>\n",
       "  </thead>\n",
       "  <tbody>\n",
       "    <tr>\n",
       "      <th>0</th>\n",
       "      <td>3667963787</td>\n",
       "      <td>3312258926</td>\n",
       "      <td>2019-08-15</td>\n",
       "      <td>30.40</td>\n",
       "      <td>B</td>\n",
       "    </tr>\n",
       "    <tr>\n",
       "      <th>1</th>\n",
       "      <td>2804400009</td>\n",
       "      <td>3642806036</td>\n",
       "      <td>2019-08-15</td>\n",
       "      <td>15.20</td>\n",
       "      <td>B</td>\n",
       "    </tr>\n",
       "    <tr>\n",
       "      <th>2</th>\n",
       "      <td>2961555356</td>\n",
       "      <td>4069496402</td>\n",
       "      <td>2019-08-15</td>\n",
       "      <td>10.20</td>\n",
       "      <td>A</td>\n",
       "    </tr>\n",
       "    <tr>\n",
       "      <th>3</th>\n",
       "      <td>3797467345</td>\n",
       "      <td>1196621759</td>\n",
       "      <td>2019-08-15</td>\n",
       "      <td>155.10</td>\n",
       "      <td>B</td>\n",
       "    </tr>\n",
       "    <tr>\n",
       "      <th>4</th>\n",
       "      <td>2282983706</td>\n",
       "      <td>2322279887</td>\n",
       "      <td>2019-08-15</td>\n",
       "      <td>40.50</td>\n",
       "      <td>B</td>\n",
       "    </tr>\n",
       "  </tbody>\n",
       "</table>\n",
       "</div>"
      ],
      "text/plain": [
       "   transactionId   visitorId        date  revenue group\n",
       "0     3667963787  3312258926  2019-08-15    30.40     B\n",
       "1     2804400009  3642806036  2019-08-15    15.20     B\n",
       "2     2961555356  4069496402  2019-08-15    10.20     A\n",
       "3     3797467345  1196621759  2019-08-15   155.10     B\n",
       "4     2282983706  2322279887  2019-08-15    40.50     B"
      ]
     },
     "execution_count": 17,
     "metadata": {},
     "output_type": "execute_result"
    }
   ],
   "source": [
    "orders[:5]"
   ]
  },
  {
   "cell_type": "code",
   "execution_count": 18,
   "metadata": {},
   "outputs": [
    {
     "name": "stdout",
     "output_type": "stream",
     "text": [
      "Existen 19 clientes que participaron en ambos grupos.\n"
     ]
    }
   ],
   "source": [
    "group_nunique = orders.groupby('visitorId', as_index = False).agg({'group':'nunique'})\n",
    "incorrect_data = group_nunique[group_nunique['group'] == 2]\n",
    "print('Existen {:} clientes que participaron en ambos grupos.'.format(len(incorrect_data)))"
   ]
  },
  {
   "cell_type": "markdown",
   "metadata": {},
   "source": [
    "- Verifiqué los datos y vi que no hay información faltante ni repetida. Tampoco se necesita cambiar el tipo de datos. Para que sea más fácil trabajar con los datos, voy a cambiar el nombre de las columnas y poner todas las letras en minúsculas.\n",
    "\n",
    "- Si pude descubrir que hay 58 compradores que están en ambos grupos de prueba. Esto arruinaría los resultados de la prueba, así que necesito eliminar los datos de estos clientes de las tablas de orders y visits."
   ]
  },
  {
   "cell_type": "code",
   "execution_count": 19,
   "metadata": {},
   "outputs": [],
   "source": [
    "hypotheses = hypotheses.rename(str.lower, axis='columns')"
   ]
  },
  {
   "cell_type": "markdown",
   "metadata": {},
   "source": [
    "Haré una lista de los clientes que participan en dos grupos al mismo tiempo"
   ]
  },
  {
   "cell_type": "code",
   "execution_count": 20,
   "metadata": {},
   "outputs": [],
   "source": [
    "customer_exclude = orders.groupby('visitorId', as_index = False).agg({'group':'nunique'})\n",
    "customer_exclude = list(customer_exclude.query('group == 2')['visitorId'])"
   ]
  },
  {
   "cell_type": "markdown",
   "metadata": {},
   "source": [
    "Voy a eliminar datos de clientes de la tabla orders, que se incluyen en la lista \"customer_exclude\"."
   ]
  },
  {
   "cell_type": "code",
   "execution_count": 21,
   "metadata": {},
   "outputs": [],
   "source": [
    "orders_filtered = orders.query('visitorId not in @customer_exclude')"
   ]
  },
  {
   "cell_type": "markdown",
   "metadata": {},
   "source": [
    "Eliminaré los datos de los clientes de la tabla visits, que incluimos en la lista \"customer_exclude\". Y luego añadiré la columna \"correct\" con \"-1\" visita"
   ]
  },
  {
   "cell_type": "code",
   "execution_count": 22,
   "metadata": {},
   "outputs": [],
   "source": [
    "orders_temp = orders.query('visitorId in @customer_exclude').reset_index(drop = True)\n",
    "\n",
    "orders_temp.loc[:,'corr'] = -1\n",
    "orders_correcting_info = orders_temp.groupby(['date','group']).agg({'corr':'sum'}).fillna(0).reset_index(drop=False)\n",
    "orders_correcting_info['corr'] = orders_correcting_info['corr'].astype(int)\n",
    "\n",
    "visits_filtered = visits.merge(orders_correcting_info,\n",
    "                              left_on=['date', 'group'],\n",
    "                              right_on=['date', 'group'])\n",
    "\n",
    "visits_filtered['visits'] = visits_filtered['visits'] + visits_filtered['corr'] \n",
    "visits_filtered = visits_filtered.drop('corr', axis=1)"
   ]
  },
  {
   "cell_type": "code",
   "execution_count": 23,
   "metadata": {},
   "outputs": [
    {
     "data": {
      "text/html": [
       "<div>\n",
       "<style scoped>\n",
       "    .dataframe tbody tr th:only-of-type {\n",
       "        vertical-align: middle;\n",
       "    }\n",
       "\n",
       "    .dataframe tbody tr th {\n",
       "        vertical-align: top;\n",
       "    }\n",
       "\n",
       "    .dataframe thead th {\n",
       "        text-align: right;\n",
       "    }\n",
       "</style>\n",
       "<table border=\"1\" class=\"dataframe\">\n",
       "  <thead>\n",
       "    <tr style=\"text-align: right;\">\n",
       "      <th></th>\n",
       "      <th>date</th>\n",
       "      <th>group</th>\n",
       "      <th>visits</th>\n",
       "    </tr>\n",
       "  </thead>\n",
       "  <tbody>\n",
       "    <tr>\n",
       "      <th>0</th>\n",
       "      <td>2019-08-01</td>\n",
       "      <td>A</td>\n",
       "      <td>719</td>\n",
       "    </tr>\n",
       "    <tr>\n",
       "      <th>1</th>\n",
       "      <td>2019-08-02</td>\n",
       "      <td>A</td>\n",
       "      <td>619</td>\n",
       "    </tr>\n",
       "    <tr>\n",
       "      <th>2</th>\n",
       "      <td>2019-08-03</td>\n",
       "      <td>A</td>\n",
       "      <td>507</td>\n",
       "    </tr>\n",
       "    <tr>\n",
       "      <th>3</th>\n",
       "      <td>2019-08-04</td>\n",
       "      <td>A</td>\n",
       "      <td>717</td>\n",
       "    </tr>\n",
       "    <tr>\n",
       "      <th>4</th>\n",
       "      <td>2019-08-05</td>\n",
       "      <td>A</td>\n",
       "      <td>756</td>\n",
       "    </tr>\n",
       "  </tbody>\n",
       "</table>\n",
       "</div>"
      ],
      "text/plain": [
       "         date group  visits\n",
       "0  2019-08-01     A     719\n",
       "1  2019-08-02     A     619\n",
       "2  2019-08-03     A     507\n",
       "3  2019-08-04     A     717\n",
       "4  2019-08-05     A     756"
      ]
     },
     "execution_count": 23,
     "metadata": {},
     "output_type": "execute_result"
    }
   ],
   "source": [
    "visits[:5]"
   ]
  },
  {
   "cell_type": "code",
   "execution_count": 24,
   "metadata": {},
   "outputs": [
    {
     "data": {
      "text/html": [
       "<div>\n",
       "<style scoped>\n",
       "    .dataframe tbody tr th:only-of-type {\n",
       "        vertical-align: middle;\n",
       "    }\n",
       "\n",
       "    .dataframe tbody tr th {\n",
       "        vertical-align: top;\n",
       "    }\n",
       "\n",
       "    .dataframe thead th {\n",
       "        text-align: right;\n",
       "    }\n",
       "</style>\n",
       "<table border=\"1\" class=\"dataframe\">\n",
       "  <thead>\n",
       "    <tr style=\"text-align: right;\">\n",
       "      <th></th>\n",
       "      <th>date</th>\n",
       "      <th>group</th>\n",
       "      <th>visits</th>\n",
       "    </tr>\n",
       "  </thead>\n",
       "  <tbody>\n",
       "    <tr>\n",
       "      <th>0</th>\n",
       "      <td>2019-08-01</td>\n",
       "      <td>A</td>\n",
       "      <td>718</td>\n",
       "    </tr>\n",
       "    <tr>\n",
       "      <th>1</th>\n",
       "      <td>2019-08-02</td>\n",
       "      <td>A</td>\n",
       "      <td>618</td>\n",
       "    </tr>\n",
       "    <tr>\n",
       "      <th>2</th>\n",
       "      <td>2019-08-06</td>\n",
       "      <td>A</td>\n",
       "      <td>665</td>\n",
       "    </tr>\n",
       "    <tr>\n",
       "      <th>3</th>\n",
       "      <td>2019-08-15</td>\n",
       "      <td>A</td>\n",
       "      <td>624</td>\n",
       "    </tr>\n",
       "    <tr>\n",
       "      <th>4</th>\n",
       "      <td>2019-08-16</td>\n",
       "      <td>A</td>\n",
       "      <td>361</td>\n",
       "    </tr>\n",
       "  </tbody>\n",
       "</table>\n",
       "</div>"
      ],
      "text/plain": [
       "         date group  visits\n",
       "0  2019-08-01     A     718\n",
       "1  2019-08-02     A     618\n",
       "2  2019-08-06     A     665\n",
       "3  2019-08-15     A     624\n",
       "4  2019-08-16     A     361"
      ]
     },
     "execution_count": 24,
     "metadata": {},
     "output_type": "execute_result"
    }
   ],
   "source": [
    "visits_filtered[:5]"
   ]
  },
  {
   "cell_type": "markdown",
   "metadata": {},
   "source": [
    "<div class=\"alert alert-block alert-success\">\n",
    "    \n",
    "<b>Comentario del revisor</b> <a class=\"tocSkip\"></a>\n",
    "    \n",
    "Excelente, buen trabajo con la exploración de las tablas. Por otro lado, perfecto que hayas identificado y eliminados los individuos que están presentes en los dos grupos.</div>"
   ]
  },
  {
   "cell_type": "markdown",
   "metadata": {},
   "source": [
    "## Priorización de hipótesis"
   ]
  },
  {
   "cell_type": "markdown",
   "metadata": {},
   "source": [
    "### ICE"
   ]
  },
  {
   "cell_type": "markdown",
   "metadata": {},
   "source": [
    "- Clasificaciones de ICE"
   ]
  },
  {
   "cell_type": "code",
   "execution_count": 25,
   "metadata": {},
   "outputs": [
    {
     "data": {
      "text/html": [
       "<div>\n",
       "<style scoped>\n",
       "    .dataframe tbody tr th:only-of-type {\n",
       "        vertical-align: middle;\n",
       "    }\n",
       "\n",
       "    .dataframe tbody tr th {\n",
       "        vertical-align: top;\n",
       "    }\n",
       "\n",
       "    .dataframe thead th {\n",
       "        text-align: right;\n",
       "    }\n",
       "</style>\n",
       "<table border=\"1\" class=\"dataframe\">\n",
       "  <thead>\n",
       "    <tr style=\"text-align: right;\">\n",
       "      <th></th>\n",
       "      <th>hypothesis</th>\n",
       "      <th>reach</th>\n",
       "      <th>impact</th>\n",
       "      <th>confidence</th>\n",
       "      <th>effort</th>\n",
       "      <th>ice</th>\n",
       "    </tr>\n",
       "  </thead>\n",
       "  <tbody>\n",
       "    <tr>\n",
       "      <th>0</th>\n",
       "      <td>Launch a promotion that gives users discounts on their birthdays</td>\n",
       "      <td>1</td>\n",
       "      <td>9</td>\n",
       "      <td>9</td>\n",
       "      <td>5</td>\n",
       "      <td>16.20</td>\n",
       "    </tr>\n",
       "    <tr>\n",
       "      <th>1</th>\n",
       "      <td>Add two new channels for attracting traffic. This will bring 30% more users</td>\n",
       "      <td>3</td>\n",
       "      <td>10</td>\n",
       "      <td>8</td>\n",
       "      <td>6</td>\n",
       "      <td>13.33</td>\n",
       "    </tr>\n",
       "    <tr>\n",
       "      <th>2</th>\n",
       "      <td>Add a subscription form to all the main pages. This will help you compile a mailing list</td>\n",
       "      <td>10</td>\n",
       "      <td>7</td>\n",
       "      <td>8</td>\n",
       "      <td>5</td>\n",
       "      <td>11.20</td>\n",
       "    </tr>\n",
       "    <tr>\n",
       "      <th>3</th>\n",
       "      <td>Show banners with current offers and sales on the main page. This will boost conversion</td>\n",
       "      <td>5</td>\n",
       "      <td>3</td>\n",
       "      <td>8</td>\n",
       "      <td>3</td>\n",
       "      <td>8.00</td>\n",
       "    </tr>\n",
       "    <tr>\n",
       "      <th>4</th>\n",
       "      <td>Add product recommendation blocks to the store's site. This will increase conversion and average purchase size</td>\n",
       "      <td>8</td>\n",
       "      <td>3</td>\n",
       "      <td>7</td>\n",
       "      <td>3</td>\n",
       "      <td>7.00</td>\n",
       "    </tr>\n",
       "    <tr>\n",
       "      <th>5</th>\n",
       "      <td>Launch your own delivery service. This will shorten delivery time</td>\n",
       "      <td>2</td>\n",
       "      <td>5</td>\n",
       "      <td>4</td>\n",
       "      <td>10</td>\n",
       "      <td>2.00</td>\n",
       "    </tr>\n",
       "    <tr>\n",
       "      <th>6</th>\n",
       "      <td>Add a customer review page. This will increase the number of orders</td>\n",
       "      <td>3</td>\n",
       "      <td>2</td>\n",
       "      <td>2</td>\n",
       "      <td>3</td>\n",
       "      <td>1.33</td>\n",
       "    </tr>\n",
       "    <tr>\n",
       "      <th>7</th>\n",
       "      <td>Change the category structure. This will increase conversion since users will find the products they want more quickly</td>\n",
       "      <td>8</td>\n",
       "      <td>3</td>\n",
       "      <td>3</td>\n",
       "      <td>8</td>\n",
       "      <td>1.12</td>\n",
       "    </tr>\n",
       "    <tr>\n",
       "      <th>8</th>\n",
       "      <td>Change the background color on the main page. This will increase user engagement</td>\n",
       "      <td>3</td>\n",
       "      <td>1</td>\n",
       "      <td>1</td>\n",
       "      <td>1</td>\n",
       "      <td>1.00</td>\n",
       "    </tr>\n",
       "  </tbody>\n",
       "</table>\n",
       "</div>"
      ],
      "text/plain": [
       "                                                                                                               hypothesis  \\\n",
       "0                                                        Launch a promotion that gives users discounts on their birthdays   \n",
       "1                                             Add two new channels for attracting traffic. This will bring 30% more users   \n",
       "2                                Add a subscription form to all the main pages. This will help you compile a mailing list   \n",
       "3                                 Show banners with current offers and sales on the main page. This will boost conversion   \n",
       "4          Add product recommendation blocks to the store's site. This will increase conversion and average purchase size   \n",
       "5                                                       Launch your own delivery service. This will shorten delivery time   \n",
       "6                                                     Add a customer review page. This will increase the number of orders   \n",
       "7  Change the category structure. This will increase conversion since users will find the products they want more quickly   \n",
       "8                                        Change the background color on the main page. This will increase user engagement   \n",
       "\n",
       "   reach  impact  confidence  effort   ice  \n",
       "0      1       9           9       5 16.20  \n",
       "1      3      10           8       6 13.33  \n",
       "2     10       7           8       5 11.20  \n",
       "3      5       3           8       3  8.00  \n",
       "4      8       3           7       3  7.00  \n",
       "5      2       5           4      10  2.00  \n",
       "6      3       2           2       3  1.33  \n",
       "7      8       3           3       8  1.12  \n",
       "8      3       1           1       1  1.00  "
      ]
     },
     "execution_count": 25,
     "metadata": {},
     "output_type": "execute_result"
    }
   ],
   "source": [
    "hypotheses['ice'] = hypotheses.apply(lambda x: \n",
    "                                     x['impact'] * x['confidence'] / x['effort'],\n",
    "                                     axis=1)\n",
    "\n",
    "hypotheses = hypotheses.sort_values(by='ice', ascending = False).reset_index(drop=True)\n",
    "hypotheses"
   ]
  },
  {
   "cell_type": "code",
   "execution_count": 26,
   "metadata": {},
   "outputs": [],
   "source": [
    "hypotheses['priority_ice'] = (\n",
    "    hypotheses.apply(lambda x: hypotheses[hypotheses['hypothesis'] == x['hypothesis']]\n",
    "                     .index.values[0],\n",
    "                     axis=1))\n",
    "hypotheses[['hypothesis','ice','priority_ice']]\n",
    "hypotheses['priority_ice'] = 9 - hypotheses['priority_ice']"
   ]
  },
  {
   "cell_type": "markdown",
   "metadata": {},
   "source": [
    "### RICE"
   ]
  },
  {
   "cell_type": "code",
   "execution_count": 27,
   "metadata": {},
   "outputs": [],
   "source": [
    "hypotheses['rice'] = hypotheses.apply(lambda x: \n",
    "                                      x['impact'] * x['confidence'] * x['reach'] / x['effort'],\n",
    "                                      axis=1)\n",
    "hypotheses = hypotheses.sort_values(by='rice', ascending = False).reset_index(drop=True)"
   ]
  },
  {
   "cell_type": "code",
   "execution_count": 28,
   "metadata": {},
   "outputs": [],
   "source": [
    "hypotheses['priority_rice'] = (\n",
    "    hypotheses.apply(lambda x: hypotheses[hypotheses['hypothesis'] == x['hypothesis']].\n",
    "                     index.values[0],\n",
    "                     axis=1))\n",
    "hypotheses[['hypothesis','rice','priority_rice']]\n",
    "hypotheses['priority_rice'] = 9 - hypotheses['priority_rice']"
   ]
  },
  {
   "cell_type": "markdown",
   "metadata": {},
   "source": [
    "- Calcularé en cuántas posiciones ha cambiado la prioridad"
   ]
  },
  {
   "cell_type": "code",
   "execution_count": 29,
   "metadata": {},
   "outputs": [],
   "source": [
    "hypotheses['shift'] = hypotheses.apply(lambda x: x['priority_rice'] - x['priority_ice'], axis=1)"
   ]
  },
  {
   "cell_type": "code",
   "execution_count": 30,
   "metadata": {},
   "outputs": [
    {
     "data": {
      "text/html": [
       "<style  type=\"text/css\" >\n",
       "#T_1e71d_row0_col3,#T_1e71d_row1_col3,#T_1e71d_row3_col3,#T_1e71d_row5_col3,#T_1e71d_row8_col3{\n",
       "            color:  green;\n",
       "        }#T_1e71d_row2_col3,#T_1e71d_row4_col3,#T_1e71d_row6_col3,#T_1e71d_row7_col3{\n",
       "            color:  red;\n",
       "        }</style><table id=\"T_1e71d_\" ><thead>    <tr>        <th class=\"blank level0\" ></th>        <th class=\"col_heading level0 col0\" >hypothesis</th>        <th class=\"col_heading level0 col1\" >priority_rice</th>        <th class=\"col_heading level0 col2\" >priority_ice</th>        <th class=\"col_heading level0 col3\" >shift</th>    </tr></thead><tbody>\n",
       "                <tr>\n",
       "                        <th id=\"T_1e71d_level0_row0\" class=\"row_heading level0 row0\" >0</th>\n",
       "                        <td id=\"T_1e71d_row0_col0\" class=\"data row0 col0\" >Add a subscription form to all the main pages. This will help you compile a mailing list</td>\n",
       "                        <td id=\"T_1e71d_row0_col1\" class=\"data row0 col1\" >9</td>\n",
       "                        <td id=\"T_1e71d_row0_col2\" class=\"data row0 col2\" >7</td>\n",
       "                        <td id=\"T_1e71d_row0_col3\" class=\"data row0 col3\" >2</td>\n",
       "            </tr>\n",
       "            <tr>\n",
       "                        <th id=\"T_1e71d_level0_row1\" class=\"row_heading level0 row1\" >1</th>\n",
       "                        <td id=\"T_1e71d_row1_col0\" class=\"data row1 col0\" >Add product recommendation blocks to the store's site. This will increase conversion and average purchase size</td>\n",
       "                        <td id=\"T_1e71d_row1_col1\" class=\"data row1 col1\" >8</td>\n",
       "                        <td id=\"T_1e71d_row1_col2\" class=\"data row1 col2\" >5</td>\n",
       "                        <td id=\"T_1e71d_row1_col3\" class=\"data row1 col3\" >3</td>\n",
       "            </tr>\n",
       "            <tr>\n",
       "                        <th id=\"T_1e71d_level0_row2\" class=\"row_heading level0 row2\" >2</th>\n",
       "                        <td id=\"T_1e71d_row2_col0\" class=\"data row2 col0\" >Add two new channels for attracting traffic. This will bring 30% more users</td>\n",
       "                        <td id=\"T_1e71d_row2_col1\" class=\"data row2 col1\" >7</td>\n",
       "                        <td id=\"T_1e71d_row2_col2\" class=\"data row2 col2\" >8</td>\n",
       "                        <td id=\"T_1e71d_row2_col3\" class=\"data row2 col3\" >-1</td>\n",
       "            </tr>\n",
       "            <tr>\n",
       "                        <th id=\"T_1e71d_level0_row3\" class=\"row_heading level0 row3\" >3</th>\n",
       "                        <td id=\"T_1e71d_row3_col0\" class=\"data row3 col0\" >Show banners with current offers and sales on the main page. This will boost conversion</td>\n",
       "                        <td id=\"T_1e71d_row3_col1\" class=\"data row3 col1\" >6</td>\n",
       "                        <td id=\"T_1e71d_row3_col2\" class=\"data row3 col2\" >6</td>\n",
       "                        <td id=\"T_1e71d_row3_col3\" class=\"data row3 col3\" >0</td>\n",
       "            </tr>\n",
       "            <tr>\n",
       "                        <th id=\"T_1e71d_level0_row4\" class=\"row_heading level0 row4\" >4</th>\n",
       "                        <td id=\"T_1e71d_row4_col0\" class=\"data row4 col0\" >Launch a promotion that gives users discounts on their birthdays</td>\n",
       "                        <td id=\"T_1e71d_row4_col1\" class=\"data row4 col1\" >5</td>\n",
       "                        <td id=\"T_1e71d_row4_col2\" class=\"data row4 col2\" >9</td>\n",
       "                        <td id=\"T_1e71d_row4_col3\" class=\"data row4 col3\" >-4</td>\n",
       "            </tr>\n",
       "            <tr>\n",
       "                        <th id=\"T_1e71d_level0_row5\" class=\"row_heading level0 row5\" >5</th>\n",
       "                        <td id=\"T_1e71d_row5_col0\" class=\"data row5 col0\" >Change the category structure. This will increase conversion since users will find the products they want more quickly</td>\n",
       "                        <td id=\"T_1e71d_row5_col1\" class=\"data row5 col1\" >4</td>\n",
       "                        <td id=\"T_1e71d_row5_col2\" class=\"data row5 col2\" >2</td>\n",
       "                        <td id=\"T_1e71d_row5_col3\" class=\"data row5 col3\" >2</td>\n",
       "            </tr>\n",
       "            <tr>\n",
       "                        <th id=\"T_1e71d_level0_row6\" class=\"row_heading level0 row6\" >6</th>\n",
       "                        <td id=\"T_1e71d_row6_col0\" class=\"data row6 col0\" >Launch your own delivery service. This will shorten delivery time</td>\n",
       "                        <td id=\"T_1e71d_row6_col1\" class=\"data row6 col1\" >3</td>\n",
       "                        <td id=\"T_1e71d_row6_col2\" class=\"data row6 col2\" >4</td>\n",
       "                        <td id=\"T_1e71d_row6_col3\" class=\"data row6 col3\" >-1</td>\n",
       "            </tr>\n",
       "            <tr>\n",
       "                        <th id=\"T_1e71d_level0_row7\" class=\"row_heading level0 row7\" >7</th>\n",
       "                        <td id=\"T_1e71d_row7_col0\" class=\"data row7 col0\" >Add a customer review page. This will increase the number of orders</td>\n",
       "                        <td id=\"T_1e71d_row7_col1\" class=\"data row7 col1\" >2</td>\n",
       "                        <td id=\"T_1e71d_row7_col2\" class=\"data row7 col2\" >3</td>\n",
       "                        <td id=\"T_1e71d_row7_col3\" class=\"data row7 col3\" >-1</td>\n",
       "            </tr>\n",
       "            <tr>\n",
       "                        <th id=\"T_1e71d_level0_row8\" class=\"row_heading level0 row8\" >8</th>\n",
       "                        <td id=\"T_1e71d_row8_col0\" class=\"data row8 col0\" >Change the background color on the main page. This will increase user engagement</td>\n",
       "                        <td id=\"T_1e71d_row8_col1\" class=\"data row8 col1\" >1</td>\n",
       "                        <td id=\"T_1e71d_row8_col2\" class=\"data row8 col2\" >1</td>\n",
       "                        <td id=\"T_1e71d_row8_col3\" class=\"data row8 col3\" >0</td>\n",
       "            </tr>\n",
       "    </tbody></table>"
      ],
      "text/plain": [
       "<pandas.io.formats.style.Styler at 0x7ff0bea84ee0>"
      ]
     },
     "execution_count": 30,
     "metadata": {},
     "output_type": "execute_result"
    }
   ],
   "source": [
    "def color_negative_red(val):\n",
    "    color = 'red' \n",
    "    if val >= 0:\n",
    "        color = 'green'\n",
    "    return 'color: %s' % color\n",
    "\n",
    "( \n",
    "    hypotheses[['hypothesis','priority_rice','priority_ice','shift']].\n",
    "    style.\n",
    "    applymap(color_negative_red, \n",
    "             subset=['shift'])\n",
    ")  \n"
   ]
  },
  {
   "cell_type": "markdown",
   "metadata": {},
   "source": [
    "Cuando se usa el método RICE para priorizar las hipótesis, puedo ver que las hipótesis con un mayor alcance de audiencia (reach) tienen una mayor prioridad. Esto es porque cuantas más personas se vean afectadas por nuestra innovación, más resultados obtendremos."
   ]
  },
  {
   "cell_type": "markdown",
   "metadata": {},
   "source": [
    "<div class=\"alert alert-block alert-success\">\n",
    "    \n",
    "<b>Comentario del revisor</b> <a class=\"tocSkip\"></a>\n",
    "    \n",
    "Buen trabajo, aplicas muy bien los frameworks RICE e ICE.\n",
    "</div>\n",
    "\n"
   ]
  },
  {
   "cell_type": "markdown",
   "metadata": {},
   "source": [
    "## Análisis de pruebas A/B"
   ]
  },
  {
   "cell_type": "markdown",
   "metadata": {},
   "source": [
    "### Gráfico de ingresos acumulados por grupo."
   ]
  },
  {
   "cell_type": "code",
   "execution_count": 31,
   "metadata": {},
   "outputs": [
    {
     "data": {
      "text/html": [
       "<div>\n",
       "<style scoped>\n",
       "    .dataframe tbody tr th:only-of-type {\n",
       "        vertical-align: middle;\n",
       "    }\n",
       "\n",
       "    .dataframe tbody tr th {\n",
       "        vertical-align: top;\n",
       "    }\n",
       "\n",
       "    .dataframe thead th {\n",
       "        text-align: right;\n",
       "    }\n",
       "</style>\n",
       "<table border=\"1\" class=\"dataframe\">\n",
       "  <thead>\n",
       "    <tr style=\"text-align: right;\">\n",
       "      <th></th>\n",
       "      <th>transactionId</th>\n",
       "      <th>visitorId</th>\n",
       "      <th>date</th>\n",
       "      <th>revenue</th>\n",
       "      <th>group</th>\n",
       "    </tr>\n",
       "  </thead>\n",
       "  <tbody>\n",
       "    <tr>\n",
       "      <th>0</th>\n",
       "      <td>3667963787</td>\n",
       "      <td>3312258926</td>\n",
       "      <td>2019-08-15</td>\n",
       "      <td>30.40</td>\n",
       "      <td>B</td>\n",
       "    </tr>\n",
       "    <tr>\n",
       "      <th>1</th>\n",
       "      <td>2804400009</td>\n",
       "      <td>3642806036</td>\n",
       "      <td>2019-08-15</td>\n",
       "      <td>15.20</td>\n",
       "      <td>B</td>\n",
       "    </tr>\n",
       "    <tr>\n",
       "      <th>2</th>\n",
       "      <td>2961555356</td>\n",
       "      <td>4069496402</td>\n",
       "      <td>2019-08-15</td>\n",
       "      <td>10.20</td>\n",
       "      <td>A</td>\n",
       "    </tr>\n",
       "    <tr>\n",
       "      <th>3</th>\n",
       "      <td>3797467345</td>\n",
       "      <td>1196621759</td>\n",
       "      <td>2019-08-15</td>\n",
       "      <td>155.10</td>\n",
       "      <td>B</td>\n",
       "    </tr>\n",
       "    <tr>\n",
       "      <th>4</th>\n",
       "      <td>2282983706</td>\n",
       "      <td>2322279887</td>\n",
       "      <td>2019-08-15</td>\n",
       "      <td>40.50</td>\n",
       "      <td>B</td>\n",
       "    </tr>\n",
       "  </tbody>\n",
       "</table>\n",
       "</div>"
      ],
      "text/plain": [
       "   transactionId   visitorId        date  revenue group\n",
       "0     3667963787  3312258926  2019-08-15    30.40     B\n",
       "1     2804400009  3642806036  2019-08-15    15.20     B\n",
       "2     2961555356  4069496402  2019-08-15    10.20     A\n",
       "3     3797467345  1196621759  2019-08-15   155.10     B\n",
       "4     2282983706  2322279887  2019-08-15    40.50     B"
      ]
     },
     "execution_count": 31,
     "metadata": {},
     "output_type": "execute_result"
    }
   ],
   "source": [
    "orders_filtered[:5]"
   ]
  },
  {
   "cell_type": "code",
   "execution_count": 32,
   "metadata": {},
   "outputs": [
    {
     "data": {
      "text/html": [
       "<div>\n",
       "<style scoped>\n",
       "    .dataframe tbody tr th:only-of-type {\n",
       "        vertical-align: middle;\n",
       "    }\n",
       "\n",
       "    .dataframe tbody tr th {\n",
       "        vertical-align: top;\n",
       "    }\n",
       "\n",
       "    .dataframe thead th {\n",
       "        text-align: right;\n",
       "    }\n",
       "</style>\n",
       "<table border=\"1\" class=\"dataframe\">\n",
       "  <thead>\n",
       "    <tr style=\"text-align: right;\">\n",
       "      <th></th>\n",
       "      <th>date</th>\n",
       "      <th>group</th>\n",
       "    </tr>\n",
       "  </thead>\n",
       "  <tbody>\n",
       "    <tr>\n",
       "      <th>168</th>\n",
       "      <td>2019-08-01</td>\n",
       "      <td>A</td>\n",
       "    </tr>\n",
       "    <tr>\n",
       "      <th>138</th>\n",
       "      <td>2019-08-01</td>\n",
       "      <td>B</td>\n",
       "    </tr>\n",
       "    <tr>\n",
       "      <th>242</th>\n",
       "      <td>2019-08-02</td>\n",
       "      <td>B</td>\n",
       "    </tr>\n",
       "    <tr>\n",
       "      <th>239</th>\n",
       "      <td>2019-08-02</td>\n",
       "      <td>A</td>\n",
       "    </tr>\n",
       "    <tr>\n",
       "      <th>405</th>\n",
       "      <td>2019-08-03</td>\n",
       "      <td>B</td>\n",
       "    </tr>\n",
       "  </tbody>\n",
       "</table>\n",
       "</div>"
      ],
      "text/plain": [
       "           date group\n",
       "168  2019-08-01     A\n",
       "138  2019-08-01     B\n",
       "242  2019-08-02     B\n",
       "239  2019-08-02     A\n",
       "405  2019-08-03     B"
      ]
     },
     "execution_count": 32,
     "metadata": {},
     "output_type": "execute_result"
    }
   ],
   "source": [
    "dateGroup = orders_filtered[['date','group']].sort_values(by = 'date').drop_duplicates()\n",
    "dateGroup[:5]"
   ]
  },
  {
   "cell_type": "code",
   "execution_count": 33,
   "metadata": {},
   "outputs": [
    {
     "data": {
      "text/html": [
       "<div>\n",
       "<style scoped>\n",
       "    .dataframe tbody tr th:only-of-type {\n",
       "        vertical-align: middle;\n",
       "    }\n",
       "\n",
       "    .dataframe tbody tr th {\n",
       "        vertical-align: top;\n",
       "    }\n",
       "\n",
       "    .dataframe thead th {\n",
       "        text-align: right;\n",
       "    }\n",
       "</style>\n",
       "<table border=\"1\" class=\"dataframe\">\n",
       "  <thead>\n",
       "    <tr style=\"text-align: right;\">\n",
       "      <th></th>\n",
       "      <th>date</th>\n",
       "      <th>group</th>\n",
       "      <th>revenue</th>\n",
       "    </tr>\n",
       "  </thead>\n",
       "  <tbody>\n",
       "    <tr>\n",
       "      <th>168</th>\n",
       "      <td>2019-08-01</td>\n",
       "      <td>A</td>\n",
       "      <td>2266.60</td>\n",
       "    </tr>\n",
       "    <tr>\n",
       "      <th>138</th>\n",
       "      <td>2019-08-01</td>\n",
       "      <td>B</td>\n",
       "      <td>1494.10</td>\n",
       "    </tr>\n",
       "    <tr>\n",
       "      <th>242</th>\n",
       "      <td>2019-08-02</td>\n",
       "      <td>B</td>\n",
       "      <td>4062.20</td>\n",
       "    </tr>\n",
       "    <tr>\n",
       "      <th>239</th>\n",
       "      <td>2019-08-02</td>\n",
       "      <td>A</td>\n",
       "      <td>3734.90</td>\n",
       "    </tr>\n",
       "    <tr>\n",
       "      <th>405</th>\n",
       "      <td>2019-08-03</td>\n",
       "      <td>B</td>\n",
       "      <td>5869.00</td>\n",
       "    </tr>\n",
       "    <tr>\n",
       "      <th>408</th>\n",
       "      <td>2019-08-03</td>\n",
       "      <td>A</td>\n",
       "      <td>5550.10</td>\n",
       "    </tr>\n",
       "  </tbody>\n",
       "</table>\n",
       "</div>"
      ],
      "text/plain": [
       "           date group  revenue\n",
       "168  2019-08-01     A  2266.60\n",
       "138  2019-08-01     B  1494.10\n",
       "242  2019-08-02     B  4062.20\n",
       "239  2019-08-02     A  3734.90\n",
       "405  2019-08-03     B  5869.00\n",
       "408  2019-08-03     A  5550.10"
      ]
     },
     "execution_count": 33,
     "metadata": {},
     "output_type": "execute_result"
    }
   ],
   "source": [
    "dateGroup['revenue'] = ( \n",
    "    dateGroup.\n",
    "    apply(lambda x: orders_filtered[np.logical_and(orders_filtered['date'] <= x['date'],\n",
    "                                                  orders_filtered['group'] == x['group'])]['revenue'].sum(),\n",
    "          axis = 1)\n",
    ")                            \n",
    "dateGroup[:6] "
   ]
  },
  {
   "cell_type": "code",
   "execution_count": 34,
   "metadata": {},
   "outputs": [
    {
     "data": {
      "image/png": "[encoded data removed]",
      "text/plain": [
       "<Figure size 1440x576 with 1 Axes>"
      ]
     },
     "metadata": {},
     "output_type": "display_data"
    }
   ],
   "source": [
    "cumulativeRevenue_A = dateGroup[dateGroup['group'] == 'A']\n",
    "cumulativeRevenue_B = dateGroup[dateGroup['group'] == 'B']\n",
    "\n",
    "fig, ax = plt.subplots(figsize=(20, 8))\n",
    "plt.plot(cumulativeRevenue_A['date'],cumulativeRevenue_A['revenue'], \n",
    "         label = 'Grupo A', color = 'royalblue',linewidth=4.0)\n",
    "plt.plot(cumulativeRevenue_B['date'],cumulativeRevenue_B['revenue'], \n",
    "         label = 'Grupo B', color = 'darkorange',linewidth=4.0)\n",
    "ax.set_xlabel('Fecha', fontsize=14)\n",
    "ax.set_ylabel('Ingresos acumulados', fontsize=14)\n",
    "ax.set_title('Ingresos acumulados por grupo', fontsize=24)\n",
    "fig.patch.set_facecolor('xkcd:periwinkle')\n",
    "plt.legend()\n",
    "\n",
    "plt.show()"
   ]
  },
  {
   "cell_type": "markdown",
   "metadata": {},
   "source": [
    "Parece ser que las ventas están aumentando en ambos grupos de prueba, lo cual es una buena señal. Sin embargo, el 19 de agosto de 2019 hubo un aumento inusual en las ventas del grupo B. En la siguiente parte, investigaré si esto se debió a algo específico o no, si fue una anomalía o no."
   ]
  },
  {
   "cell_type": "markdown",
   "metadata": {},
   "source": [
    "<div class=\"alert alert-block alert-success\">\n",
    "    \n",
    "<b>Comentario del revisor</b> <a class=\"tocSkip\"></a>\n",
    "    \n",
    "Excelente, buen trabajo con el grafico.\n",
    "</div>\n"
   ]
  },
  {
   "cell_type": "markdown",
   "metadata": {},
   "source": [
    "### Gráfico del tamaño medio acumulado de los pedidos por grupo."
   ]
  },
  {
   "cell_type": "markdown",
   "metadata": {},
   "source": [
    "Primero tengo que calcular el número de órdenes diarias"
   ]
  },
  {
   "cell_type": "code",
   "execution_count": 35,
   "metadata": {},
   "outputs": [
    {
     "data": {
      "text/html": [
       "<div>\n",
       "<style scoped>\n",
       "    .dataframe tbody tr th:only-of-type {\n",
       "        vertical-align: middle;\n",
       "    }\n",
       "\n",
       "    .dataframe tbody tr th {\n",
       "        vertical-align: top;\n",
       "    }\n",
       "\n",
       "    .dataframe thead th {\n",
       "        text-align: right;\n",
       "    }\n",
       "</style>\n",
       "<table border=\"1\" class=\"dataframe\">\n",
       "  <thead>\n",
       "    <tr style=\"text-align: right;\">\n",
       "      <th></th>\n",
       "      <th>date</th>\n",
       "      <th>group</th>\n",
       "      <th>revenue</th>\n",
       "      <th>n_orders</th>\n",
       "    </tr>\n",
       "  </thead>\n",
       "  <tbody>\n",
       "    <tr>\n",
       "      <th>168</th>\n",
       "      <td>2019-08-01</td>\n",
       "      <td>A</td>\n",
       "      <td>2266.60</td>\n",
       "      <td>23</td>\n",
       "    </tr>\n",
       "    <tr>\n",
       "      <th>138</th>\n",
       "      <td>2019-08-01</td>\n",
       "      <td>B</td>\n",
       "      <td>1494.10</td>\n",
       "      <td>20</td>\n",
       "    </tr>\n",
       "    <tr>\n",
       "      <th>242</th>\n",
       "      <td>2019-08-02</td>\n",
       "      <td>B</td>\n",
       "      <td>4062.20</td>\n",
       "      <td>43</td>\n",
       "    </tr>\n",
       "    <tr>\n",
       "      <th>239</th>\n",
       "      <td>2019-08-02</td>\n",
       "      <td>A</td>\n",
       "      <td>3734.90</td>\n",
       "      <td>42</td>\n",
       "    </tr>\n",
       "    <tr>\n",
       "      <th>405</th>\n",
       "      <td>2019-08-03</td>\n",
       "      <td>B</td>\n",
       "      <td>5869.00</td>\n",
       "      <td>59</td>\n",
       "    </tr>\n",
       "    <tr>\n",
       "      <th>408</th>\n",
       "      <td>2019-08-03</td>\n",
       "      <td>A</td>\n",
       "      <td>5550.10</td>\n",
       "      <td>66</td>\n",
       "    </tr>\n",
       "  </tbody>\n",
       "</table>\n",
       "</div>"
      ],
      "text/plain": [
       "           date group  revenue  n_orders\n",
       "168  2019-08-01     A  2266.60        23\n",
       "138  2019-08-01     B  1494.10        20\n",
       "242  2019-08-02     B  4062.20        43\n",
       "239  2019-08-02     A  3734.90        42\n",
       "405  2019-08-03     B  5869.00        59\n",
       "408  2019-08-03     A  5550.10        66"
      ]
     },
     "execution_count": 35,
     "metadata": {},
     "output_type": "execute_result"
    }
   ],
   "source": [
    "dateGroup['n_orders'] = ( \n",
    "    dateGroup.\n",
    "    apply(lambda x: orders_filtered[np.logical_and(orders_filtered['date'] <= x['date'],\n",
    "                                                  orders_filtered['group'] == x['group'])]\n",
    "          ['transactionId'].count(),\n",
    "          axis = 1)\n",
    ")                            \n",
    "dateGroup[:6] "
   ]
  },
  {
   "cell_type": "code",
   "execution_count": 36,
   "metadata": {},
   "outputs": [],
   "source": [
    "dateGroup['avg_order_size'] = (\n",
    "    dateGroup.apply(lambda x: x['revenue'] / x['n_orders'] , axis = 1)\n",
    ")\n",
    "cumulativeAvgOrdersSize_A = dateGroup[dateGroup['group'] == 'A']\n",
    "cumulativeAvgOrdersSize_B = dateGroup[dateGroup['group'] == 'B']"
   ]
  },
  {
   "cell_type": "code",
   "execution_count": 37,
   "metadata": {
    "scrolled": true
   },
   "outputs": [
    {
     "data": {
      "image/png": "[encoded data removed]",
      "text/plain": [
       "<Figure size 1440x576 with 1 Axes>"
      ]
     },
     "metadata": {},
     "output_type": "display_data"
    }
   ],
   "source": [
    "fig, ax = plt.subplots(figsize=(20, 8))\n",
    "plt.plot(cumulativeAvgOrdersSize_A['date'], cumulativeAvgOrdersSize_A['avg_order_size'], \n",
    "         label = 'Group A', color = 'royalblue', linewidth=4.0) \n",
    "plt.plot(cumulativeAvgOrdersSize_B['date'], cumulativeAvgOrdersSize_B['avg_order_size'], \n",
    "         label = 'Group B', color = 'darkorange',linewidth=4.0)\n",
    "ax.set_xlabel('Fecha', fontsize=14)\n",
    "ax.set_ylabel('Tamaño medio acumulado de los pedidos', fontsize=14)\n",
    "ax.set_title('Tamaño medio acumulado de los pedidos por grupo', fontsize=24)\n",
    "fig.patch.set_facecolor('xkcd:tan')\n",
    "plt.legend()\n",
    "\n",
    "plt.show()"
   ]
  },
  {
   "cell_type": "markdown",
   "metadata": {},
   "source": [
    "La cantidad promedio que gasta cada cliente también se estabiliza al final de la prueba, pero en el grupo B sigue disminuyendo. Es posible que esto se deba a que hubo algunos pedidos grandes y costosos el 18 de agosto de 2019. Necesitaré más datos sobre este grupo para saber cuál es el gasto promedio real de cada cliente y establecer su nivel.\n",
    "\n",
    "Aunque el grupo B gasta más en promedio, la tendencia es a la baja, por lo que no está claro si caerá por debajo del grupo A."
   ]
  },
  {
   "cell_type": "markdown",
   "metadata": {},
   "source": [
    "<div class=\"alert alert-block alert-success\">\n",
    "    \n",
    "<b>Comentario del revisor </b> <a class=\"tocSkip\"></a>\n",
    "    \n",
    "Buen trabajo Cesar.\n",
    "</div>\n"
   ]
  },
  {
   "cell_type": "markdown",
   "metadata": {},
   "source": [
    "### Gráfica de la diferencia relativa en el tamaño medio acumulado de los pedidos del grupo B en comparación con el grupo A."
   ]
  },
  {
   "cell_type": "code",
   "execution_count": 38,
   "metadata": {},
   "outputs": [],
   "source": [
    "mergedCumulativeAvgOrdersSize = ( \n",
    "    cumulativeAvgOrdersSize_A[['date','avg_order_size']].\n",
    "    merge(cumulativeAvgOrdersSize_B[['date','avg_order_size']], \n",
    "          on='date',\n",
    "          suffixes=['A', 'B'])\n",
    ")\n",
    "mergedCumulativeAvgOrdersSize['relative_difference_avg_order_size'] = (\n",
    "    mergedCumulativeAvgOrdersSize.\n",
    "    apply(lambda x: (x['avg_order_sizeB'] / x['avg_order_sizeA']) - 1,\n",
    "          axis = 1)\n",
    ")"
   ]
  },
  {
   "cell_type": "code",
   "execution_count": 39,
   "metadata": {},
   "outputs": [
    {
     "data": {
      "image/png": "[encoded data removed]",
      "text/plain": [
       "<Figure size 1440x576 with 1 Axes>"
      ]
     },
     "metadata": {},
     "output_type": "display_data"
    }
   ],
   "source": [
    "fig, ax = plt.subplots(figsize=(20, 8))\n",
    "plt.plot(mergedCumulativeAvgOrdersSize['date'], \n",
    "         mergedCumulativeAvgOrdersSize['relative_difference_avg_order_size'], \n",
    "         label = 'Diferencia relativa B/A', color = 'royalblue', linewidth=4.0)\n",
    "ax.set_xlabel('Fecha', fontsize=14)\n",
    "ax.set_ylabel('%', fontsize=14)\n",
    "ax.set_title('La diferencia relativa para los tamaños medios de compra (B/A)', fontsize=24)\n",
    "fig.patch.set_facecolor('xkcd:teal')\n",
    "plt.axhline(y=0, color='darkorange', linestyle='--') \n",
    "plt.legend()\n",
    "\n",
    "plt.show()"
   ]
  },
  {
   "cell_type": "markdown",
   "metadata": {},
   "source": [
    "El gráfico tiene altibajos pronunciados, lo que significa que hay pedidos grandes e inusuales en ambos grupos. La tendencia general del gráfico es a la baja, pero no tengo suficientes datos todavía para saber con certeza cuál es la diferencia real entre el gasto promedio de cada cliente."
   ]
  },
  {
   "cell_type": "markdown",
   "metadata": {},
   "source": [
    "<div class=\"alert alert-block alert-success\">\n",
    "    \n",
    "<b>Comentario del revisor </b> <a class=\"tocSkip\"></a>\n",
    "    \n",
    "Buen trabajo.\n",
    "</div>\n"
   ]
  },
  {
   "cell_type": "markdown",
   "metadata": {},
   "source": [
    "### Cálculo del índice de conversión de cada grupo como la relación entre los pedidos y el número de visitas de cada día."
   ]
  },
  {
   "cell_type": "markdown",
   "metadata": {},
   "source": [
    "Tendo que calcular el número de visitantes por día."
   ]
  },
  {
   "cell_type": "code",
   "execution_count": 40,
   "metadata": {},
   "outputs": [
    {
     "data": {
      "text/html": [
       "<div>\n",
       "<style scoped>\n",
       "    .dataframe tbody tr th:only-of-type {\n",
       "        vertical-align: middle;\n",
       "    }\n",
       "\n",
       "    .dataframe tbody tr th {\n",
       "        vertical-align: top;\n",
       "    }\n",
       "\n",
       "    .dataframe thead th {\n",
       "        text-align: right;\n",
       "    }\n",
       "</style>\n",
       "<table border=\"1\" class=\"dataframe\">\n",
       "  <thead>\n",
       "    <tr style=\"text-align: right;\">\n",
       "      <th></th>\n",
       "      <th>date</th>\n",
       "      <th>group</th>\n",
       "      <th>revenue</th>\n",
       "      <th>n_orders</th>\n",
       "      <th>avg_order_size</th>\n",
       "      <th>n_visitors</th>\n",
       "    </tr>\n",
       "  </thead>\n",
       "  <tbody>\n",
       "    <tr>\n",
       "      <th>168</th>\n",
       "      <td>2019-08-01</td>\n",
       "      <td>A</td>\n",
       "      <td>2266.60</td>\n",
       "      <td>23</td>\n",
       "      <td>98.55</td>\n",
       "      <td>718</td>\n",
       "    </tr>\n",
       "    <tr>\n",
       "      <th>138</th>\n",
       "      <td>2019-08-01</td>\n",
       "      <td>B</td>\n",
       "      <td>1494.10</td>\n",
       "      <td>20</td>\n",
       "      <td>74.70</td>\n",
       "      <td>712</td>\n",
       "    </tr>\n",
       "    <tr>\n",
       "      <th>242</th>\n",
       "      <td>2019-08-02</td>\n",
       "      <td>B</td>\n",
       "      <td>4062.20</td>\n",
       "      <td>43</td>\n",
       "      <td>94.47</td>\n",
       "      <td>1292</td>\n",
       "    </tr>\n",
       "    <tr>\n",
       "      <th>239</th>\n",
       "      <td>2019-08-02</td>\n",
       "      <td>A</td>\n",
       "      <td>3734.90</td>\n",
       "      <td>42</td>\n",
       "      <td>88.93</td>\n",
       "      <td>1336</td>\n",
       "    </tr>\n",
       "    <tr>\n",
       "      <th>405</th>\n",
       "      <td>2019-08-03</td>\n",
       "      <td>B</td>\n",
       "      <td>5869.00</td>\n",
       "      <td>59</td>\n",
       "      <td>99.47</td>\n",
       "      <td>1292</td>\n",
       "    </tr>\n",
       "    <tr>\n",
       "      <th>408</th>\n",
       "      <td>2019-08-03</td>\n",
       "      <td>A</td>\n",
       "      <td>5550.10</td>\n",
       "      <td>66</td>\n",
       "      <td>84.09</td>\n",
       "      <td>1336</td>\n",
       "    </tr>\n",
       "  </tbody>\n",
       "</table>\n",
       "</div>"
      ],
      "text/plain": [
       "           date group  revenue  n_orders  avg_order_size  n_visitors\n",
       "168  2019-08-01     A  2266.60        23           98.55         718\n",
       "138  2019-08-01     B  1494.10        20           74.70         712\n",
       "242  2019-08-02     B  4062.20        43           94.47        1292\n",
       "239  2019-08-02     A  3734.90        42           88.93        1336\n",
       "405  2019-08-03     B  5869.00        59           99.47        1292\n",
       "408  2019-08-03     A  5550.10        66           84.09        1336"
      ]
     },
     "execution_count": 40,
     "metadata": {},
     "output_type": "execute_result"
    }
   ],
   "source": [
    "dateGroup['n_visitors'] = ( \n",
    "    dateGroup.\n",
    "    apply(lambda x: visits_filtered[np.logical_and(visits_filtered['date'] <= x['date'],\n",
    "                                                  visits_filtered['group'] == x['group'])]\n",
    "          ['visits'].sum(),\n",
    "          axis = 1)\n",
    ")   \n",
    "dateGroup[:6]"
   ]
  },
  {
   "cell_type": "code",
   "execution_count": 41,
   "metadata": {},
   "outputs": [],
   "source": [
    "dateGroup['conversion_rate'] = (\n",
    "    dateGroup.\n",
    "    apply(lambda x: (x['n_orders'] / x['n_visitors']),\n",
    "          axis = 1)\n",
    ")\n",
    "conversion_rate_A = dateGroup[dateGroup['group'] == 'A']\n",
    "conversion_rate_B = dateGroup[dateGroup['group'] == 'B']"
   ]
  },
  {
   "cell_type": "code",
   "execution_count": 42,
   "metadata": {},
   "outputs": [
    {
     "data": {
      "image/png": "[encoded data removed]",
      "text/plain": [
       "<Figure size 1440x576 with 1 Axes>"
      ]
     },
     "metadata": {},
     "output_type": "display_data"
    }
   ],
   "source": [
    "fig, ax = plt.subplots(figsize=(20, 8))\n",
    "plt.plot(conversion_rate_A['date'], conversion_rate_A['conversion_rate'], \n",
    "         label = 'Grupo A', color = 'royalblue', linewidth=4.0)\n",
    "plt.plot(conversion_rate_B['date'], conversion_rate_B['conversion_rate'], \n",
    "         label = 'Grupo B', color = 'darkorange',linewidth=4.0)\n",
    "ax.set_xlabel('Fecha', fontsize=14)\n",
    "ax.set_ylabel('Índice de conversión', fontsize=14)\n",
    "ax.set_title('Índice de conversión por grupo', fontsize=24)\n",
    "fig.patch.set_facecolor('xkcd:magenta')\n",
    "plt.legend()\n",
    "\n",
    "plt.show()"
   ]
  },
  {
   "cell_type": "markdown",
   "metadata": {},
   "source": [
    "Puedo confirmar que el grupo B tiene más ventas que el grupo A, y la tendencia se ha mantenido constante al final del período de prueba."
   ]
  },
  {
   "cell_type": "markdown",
   "metadata": {},
   "source": [
    "<div class=\"alert alert-block alert-success\">\n",
    "    \n",
    "<b>Comentario del revisor </b> <a class=\"tocSkip\"></a>\n",
    "    \n",
    "Bien hecho.\n",
    "</div>\n"
   ]
  },
  {
   "cell_type": "markdown",
   "metadata": {},
   "source": [
    "### Gráfico de dispersión del número de pedidos por usuario."
   ]
  },
  {
   "cell_type": "markdown",
   "metadata": {},
   "source": [
    "Tendré que calcular el número de clientes con un solo pedido"
   ]
  },
  {
   "cell_type": "code",
   "execution_count": 43,
   "metadata": {},
   "outputs": [
    {
     "name": "stdout",
     "output_type": "stream",
     "text": [
      "96.76% de los clientes solo hacen una orden\n"
     ]
    }
   ],
   "source": [
    "number_orders_per_buyer = orders_filtered.groupby('visitorId').agg({'transactionId':'nunique'})\n",
    "number_orders_per_buyer = ( \n",
    "    number_orders_per_buyer.rename(columns = {'transactionId':'count_orders'})\n",
    ")\n",
    "\n",
    "share_one_order = (\n",
    "    len(number_orders_per_buyer[number_orders_per_buyer['count_orders'] == 1])\n",
    "    /\n",
    "    len(number_orders_per_buyer)\n",
    ")\n",
    "print('{:.2%} de los clientes solo hacen una orden'.format(share_one_order))"
   ]
  },
  {
   "cell_type": "code",
   "execution_count": 44,
   "metadata": {},
   "outputs": [
    {
     "data": {
      "image/png": "[encoded data removed]",
      "text/plain": [
       "<Figure size 1440x576 with 1 Axes>"
      ]
     },
     "metadata": {},
     "output_type": "display_data"
    }
   ],
   "source": [
    "fig, ax = plt.subplots(figsize=(20, 8))\n",
    "plt.hist(number_orders_per_buyer['count_orders'], color = 'royalblue') \n",
    "ax.set_xlabel('Número de órdenes', fontsize=14)\n",
    "ax.set_ylabel('Número de usuarios', fontsize=14)\n",
    "ax.set_title('Número de órdenes por usuario', fontsize=24)\n",
    "fig.patch.set_facecolor('xkcd:sky blue')\n",
    "\n",
    "plt.show()"
   ]
  },
  {
   "cell_type": "code",
   "execution_count": 45,
   "metadata": {},
   "outputs": [
    {
     "data": {
      "image/png": "[encoded data removed]",
      "text/plain": [
       "<Figure size 1440x576 with 1 Axes>"
      ]
     },
     "metadata": {},
     "output_type": "display_data"
    }
   ],
   "source": [
    "x_values = pd.Series(range(0,len(number_orders_per_buyer)))\n",
    "\n",
    "fig, ax = plt.subplots(figsize=(20, 8))\n",
    "plt.scatter(x_values, number_orders_per_buyer['count_orders'], color = 'royalblue') \n",
    "ax.set_xlabel('Usuarios', fontsize=14)\n",
    "ax.set_ylabel('Número de usuarios', fontsize=14)\n",
    "ax.set_title('Número de órdenes por usuario', fontsize=24)\n",
    "fig.patch.set_facecolor('xkcd:peach')\n",
    "\n",
    "plt.show()"
   ]
  },
  {
   "cell_type": "markdown",
   "metadata": {},
   "source": [
    "La mayoría de los clientes( el 96,3 %), solo compra una vez al mes. Es difícil decir si esto es mucho o poco, ya que depende de lo que se venda. Por ejemplo, si se vende comida, esta tasa es muy baja, ya que la gente compra comida con mucha más frecuencia que una vez al mes. Sin embargo, si se venden muebles, no es de esperar que los clientes compren con mucha frecuencia. El número de compras por cliente por mes siempre variará según el tipo negocio."
   ]
  },
  {
   "cell_type": "markdown",
   "metadata": {},
   "source": [
    "<div class=\"alert alert-block alert-success\">\n",
    "    \n",
    "<b>Comentario del revisor </b> <a class=\"tocSkip\"></a>\n",
    "    \n",
    "Perfecto.\n",
    "</div>\n"
   ]
  },
  {
   "cell_type": "markdown",
   "metadata": {},
   "source": [
    "### Cálculo de los percentiles 95 y 99 del número de pedidos por usuario."
   ]
  },
  {
   "cell_type": "code",
   "execution_count": 46,
   "metadata": {},
   "outputs": [
    {
     "name": "stdout",
     "output_type": "stream",
     "text": [
      "No más del 5% de usuarios hicieron más de 1.0 órdenes\n",
      "No más del 1% de usuarios hicieron más de 2.0 órdenes\n"
     ]
    }
   ],
   "source": [
    "percentile_dict = [95, 99]\n",
    "percentile = np.percentile(number_orders_per_buyer['count_orders'], percentile_dict)\n",
    "\n",
    "print('No más del {:}% de usuarios hicieron más de {:.1f} órdenes'.\n",
    "      format(100 - percentile_dict[0],percentile[0]))\n",
    "print('No más del {:}% de usuarios hicieron más de {:.1f} órdenes'.\n",
    "      format(100 - percentile_dict[1],percentile[1]))"
   ]
  },
  {
   "cell_type": "markdown",
   "metadata": {},
   "source": [
    "Por lo general, el 1-5% de los valores que están más alejados del promedio son eliminados. Por lo tanto, tendría sentido establecer un pedido por usuario como el mínimo de pedidos que puede realizar un cliente para que se considere normal. Si un cliente realiza más de un pedido, eliminaremos sus datos del análisis."
   ]
  },
  {
   "cell_type": "markdown",
   "metadata": {},
   "source": [
    "<div class=\"alert alert-block alert-success\">\n",
    "    \n",
    "<b>Comentario del revisor </b> <a class=\"tocSkip\"></a>\n",
    "    \n",
    "Buen trabajo.\n",
    "</div>\n"
   ]
  },
  {
   "cell_type": "markdown",
   "metadata": {},
   "source": [
    "### Gráfico de dispersión de los precios de los pedidos."
   ]
  },
  {
   "cell_type": "code",
   "execution_count": 47,
   "metadata": {},
   "outputs": [
    {
     "data": {
      "image/png": "[encoded data removed]",
      "text/plain": [
       "<Figure size 1440x576 with 2 Axes>"
      ]
     },
     "metadata": {},
     "output_type": "display_data"
    }
   ],
   "source": [
    "x_values = pd.Series(range(0,len(orders_filtered)))\n",
    "\n",
    "fig, ax = plt.subplots(figsize=(20, 8))\n",
    "fig.patch.set_facecolor('xkcd:banana')\n",
    "ax1 = plt.subplot(121)\n",
    "res = plt.scatter(x_values, orders_filtered['revenue'], color = 'royalblue') \n",
    "ax1.set_ylabel('Precio', fontsize=14)       \n",
    "ax1.set_xlabel('Órdenes', fontsize=14)\n",
    "ax1.set_title('Todas las órdenes', fontsize=18)\n",
    "    \n",
    "ax2 = plt.subplot(122)\n",
    "res = plt.scatter(x_values, orders_filtered['revenue'], color = 'royalblue') \n",
    "\n",
    "ax2.set_ylabel('')  \n",
    "ax2.set_xlabel('Órdenes', fontsize=14)\n",
    "ax2.set_title('Precio ∈ [0..2000]', fontsize=18)\n",
    "ax2.set_ylim([0, 2000])\n",
    "plt.show()"
   ]
  },
  {
   "cell_type": "markdown",
   "metadata": {},
   "source": [
    "Hay algunos pedidos muy grandes, tal como se esperaba. La mayoría de los clientes realizan pedidos de hasta $500.00. En la siguiente parte, veremos cuál es el umbral de corte."
   ]
  },
  {
   "cell_type": "markdown",
   "metadata": {},
   "source": [
    "<div class=\"alert alert-block alert-success\">\n",
    "    \n",
    "<b>Comentario del revisor </b> <a class=\"tocSkip\"></a>\n",
    "    \n",
    "Bien hecho.\n",
    "</div>\n"
   ]
  },
  {
   "cell_type": "markdown",
   "metadata": {},
   "source": [
    "###  Cálculo de los percentiles 95 y 99 de los precios de los pedidos."
   ]
  },
  {
   "cell_type": "code",
   "execution_count": 48,
   "metadata": {},
   "outputs": [
    {
     "name": "stdout",
     "output_type": "stream",
     "text": [
      "No más del 5% de usuarios hicieron órdenes de más de 313.4 dólares\n",
      "No más del 1% de usuarios hicieron órdenes de más de 611.7 dólares\n"
     ]
    }
   ],
   "source": [
    "percentile = np.percentile(orders_filtered['revenue'], percentile_dict)\n",
    "print('No más del {:}% de usuarios hicieron órdenes de más de {:.1f} dólares'.format(100 - percentile_dict[0],percentile[0]))\n",
    "print('No más del {:}% de usuarios hicieron órdenes de más de {:.1f} dólares'.format(100 - percentile_dict[1],percentile[1]))"
   ]
  },
  {
   "cell_type": "markdown",
   "metadata": {},
   "source": [
    "Por lo general, el 1-5% de los valores que están más alejados del promedio son eliminados.Por lo tanto, tendría sentido establecer 500 dólares por pedido como el máximo que un cliente puede gastar para que su pedido se considere normal. Si un cliente gasta más de 500 dólares en un pedido, eliminaremos sus datos del análisis."
   ]
  },
  {
   "cell_type": "markdown",
   "metadata": {},
   "source": [
    "<div class=\"alert alert-block alert-success\">\n",
    "    \n",
    "<b>Comentario del revisor </b> <a class=\"tocSkip\"></a>\n",
    "    \n",
    "Buen trabajo.\n",
    "</div>\n"
   ]
  },
  {
   "cell_type": "markdown",
   "metadata": {},
   "source": [
    "### Significación estadística de la diferencia de conversión entre los grupos utilizando los datos brutos."
   ]
  },
  {
   "cell_type": "markdown",
   "metadata": {},
   "source": [
    "#orders_filtered es la tabla de la que se eliminaron los duplicados en la primera parte del proyecto"
   ]
  },
  {
   "cell_type": "code",
   "execution_count": 49,
   "metadata": {},
   "outputs": [],
   "source": [
    "ordersByUsers_A = ( \n",
    "    orders_filtered[orders_filtered['group'] == 'A'].\n",
    "    groupby('visitorId').\n",
    "    agg({'transactionId':'nunique'})\n",
    ")\n",
    "\n",
    "ordersByUsers_B = ( \n",
    "    orders_filtered[orders_filtered['group'] == 'B'].\n",
    "    groupby('visitorId').\n",
    "    agg({'transactionId':'nunique'})\n",
    ")\n",
    "\n",
    "ordersByUsers_A = ordersByUsers_A.rename(columns = {'transactionId':'orders'})\n",
    "ordersByUsers_B = ordersByUsers_B.rename(columns = {'transactionId':'orders'})"
   ]
  },
  {
   "cell_type": "code",
   "execution_count": 50,
   "metadata": {},
   "outputs": [],
   "source": [
    "sampleA = (\n",
    "    pd.concat([ordersByUsers_A['orders'],\n",
    "               pd.Series(0, \n",
    "                         index = np.arange(visits_filtered[visits_filtered['group'] == 'A']\n",
    "                                           ['visits']\n",
    "                                           .sum() \n",
    "                                           -\n",
    "                                           len(ordersByUsers_A['orders'])),\n",
    "                         name = 'orders')],\n",
    "              axis=0)\n",
    ")\n",
    "sampleB = (\n",
    "    pd.concat([ordersByUsers_B['orders'],\n",
    "               pd.Series(0, \n",
    "                         index = np.arange(visits_filtered[visits_filtered['group'] == 'B']\n",
    "                                           ['visits']\n",
    "                                           .sum() \n",
    "                                           -\n",
    "                                           len(ordersByUsers_B['orders'])),\n",
    "                         name = 'orders')],\n",
    "              axis=0)\n",
    ")"
   ]
  },
  {
   "cell_type": "code",
   "execution_count": 51,
   "metadata": {},
   "outputs": [
    {
     "name": "stdout",
     "output_type": "stream",
     "text": [
      "P-value : 0.1065\n",
      "La conversión en el grupo B es mayor en 14%\n"
     ]
    }
   ],
   "source": [
    "print(\"P-value : {0:.4f}\".format(st.mannwhitneyu(sampleA, sampleB)[1]))\n",
    "print(\"La conversión en el grupo B es mayor en {0:.0f}%\".\n",
    "      format((sampleB.mean()/sampleA.mean()-1)*100))"
   ]
  },
  {
   "cell_type": "markdown",
   "metadata": {},
   "source": [
    "Los datos muestran que hay una diferencia entre los grupos A y B. El p-value, es 0.0110, lo cual es inferior a 0.05. Esto significa que podemos rechazar la hipótesis nula de que no hay una diferencia significativa en la tasa de conversión entre los dos grupos. La tasa de conversión del grupo B es un 16% más alta que la del grupo A."
   ]
  },
  {
   "cell_type": "markdown",
   "metadata": {},
   "source": [
    "<div class=\"alert alert-block alert-success\">\n",
    "    \n",
    "<b>Comentario del revisor </b> <a class=\"tocSkip\"></a>\n",
    "    \n",
    "Buen trabajo.\n",
    "</div>\n"
   ]
  },
  {
   "cell_type": "markdown",
   "metadata": {},
   "source": [
    "### Significación estadística de la diferencia en el tamaño medio de los pedidos entre los grupos utilizando los datos brutos."
   ]
  },
  {
   "cell_type": "code",
   "execution_count": 52,
   "metadata": {},
   "outputs": [
    {
     "name": "stdout",
     "output_type": "stream",
     "text": [
      "P-value : 0.757\n",
      "El tamaño medio de los pedidos en el grupo B es mayor en 92.664%\n"
     ]
    }
   ],
   "source": [
    "revenue_A = orders_filtered[orders_filtered['group'] == 'A']['revenue']\n",
    "revenue_B = orders_filtered[orders_filtered['group'] == 'B']['revenue']\n",
    "print(\"P-value : {0:.3f}\".format(st.mannwhitneyu(revenue_A, revenue_B)[1]))\n",
    "print(\"El tamaño medio de los pedidos en el grupo B es mayor en {0:.3f}%\".format((revenue_B.mean()/revenue_A.mean()-1)*100)) "
   ]
  },
  {
   "cell_type": "markdown",
   "metadata": {},
   "source": [
    "Los datos no muestran una diferencia estadísticamente significativa en el tamaño medio del pedido entre los dos grupos. El valor p-value es 0.862, que es mucho mayor que 0.05. Sin embargo, el tamaño medio del pedido del grupo B es aprox 28% mayor que el del grupo A."
   ]
  },
  {
   "cell_type": "markdown",
   "metadata": {},
   "source": [
    "<div class=\"alert alert-block alert-success\">\n",
    "    \n",
    "<b>Comentario del revisor </b> <a class=\"tocSkip\"></a>\n",
    "    \n",
    "Buen trabajo.\n",
    "</div>\n"
   ]
  },
  {
   "cell_type": "markdown",
   "metadata": {},
   "source": [
    "### Significación estadística de la diferencia de conversión entre los grupos utilizando los datos filtrados."
   ]
  },
  {
   "cell_type": "markdown",
   "metadata": {},
   "source": [
    "Como dije antes, los pedidos superiores a $500.00 o más de un pedido por cliente se considerarían anormales."
   ]
  },
  {
   "cell_type": "code",
   "execution_count": 53,
   "metadata": {},
   "outputs": [],
   "source": [
    "ordersByUsers_A = ordersByUsers_A.reset_index()\n",
    "ordersByUsers_B = ordersByUsers_B.reset_index()"
   ]
  },
  {
   "cell_type": "markdown",
   "metadata": {},
   "source": [
    "Generaré una tabla adicional con anomalías de UID"
   ]
  },
  {
   "cell_type": "code",
   "execution_count": 54,
   "metadata": {},
   "outputs": [
    {
     "name": "stdout",
     "output_type": "stream",
     "text": [
      "Tenemos 23 usuarios anómalos en total.\n"
     ]
    }
   ],
   "source": [
    "usersWithManyOrders = pd.concat(\n",
    "    [ordersByUsers_A[ordersByUsers_A['orders'] > 1]['visitorId'],\n",
    "     ordersByUsers_B[ordersByUsers_B['orders'] > 1]['visitorId']],\n",
    "     axis = 0)\n",
    "\n",
    "usersWithExpensiveOrders = orders_filtered[orders_filtered['revenue'] > 500]['visitorId']\n",
    "abnormalUsers = pd.concat([usersWithManyOrders,usersWithExpensiveOrders],axis = 0)\n",
    "abnormalUsers = abnormalUsers.drop_duplicates().sort_values()\n",
    "print('Tenemos {:} usuarios anómalos en total.'.format(len(abnormalUsers)))"
   ]
  },
  {
   "cell_type": "markdown",
   "metadata": {},
   "source": [
    "Intentaré averiguar cómo afectaron las acciones anómalas de los usuarios a los resultados de la prueba. Primero voy a calcular la significación estadística de las diferencias de conversión entre los grupos, utilizando los datos filtrados. Prepararé muestras del número de pedidos por usuario para cada grupo de prueba."
   ]
  },
  {
   "cell_type": "code",
   "execution_count": 55,
   "metadata": {},
   "outputs": [],
   "source": [
    "sampleA_filtered = ( \n",
    "    pd.concat(\n",
    "        [ordersByUsers_A[np.logical_not(ordersByUsers_A['visitorId'].\n",
    "                                        isin(abnormalUsers))]['orders'],\n",
    "         pd.Series(0, \n",
    "                   index = np.arange(visits_filtered[visits_filtered['group']=='A']\n",
    "                                     ['visits'].sum() \n",
    "                                     - \n",
    "                                     len(ordersByUsers_A['orders'])),\n",
    "                   name='orders')],\n",
    "        axis=0)\n",
    ")\n",
    "sampleB_filtered = ( \n",
    "    pd.concat(\n",
    "        [ordersByUsers_B[np.logical_not(ordersByUsers_B['visitorId'].\n",
    "                                        isin(abnormalUsers))]['orders'],\n",
    "         pd.Series(0, \n",
    "                   index = np.arange(visits_filtered[visits_filtered['group']=='B']\n",
    "                                     ['visits'].sum() \n",
    "                                     - \n",
    "                                     len(ordersByUsers_B['orders'])),\n",
    "                   name='orders')],\n",
    "        axis=0)\n",
    ")"
   ]
  },
  {
   "cell_type": "code",
   "execution_count": 56,
   "metadata": {},
   "outputs": [
    {
     "name": "stdout",
     "output_type": "stream",
     "text": [
      "P-value : 0.1039\n",
      "La conversión en el grupo B es mejor en 17%\n"
     ]
    }
   ],
   "source": [
    "print(\"P-value : {0:.4f}\".format(st.mannwhitneyu(sampleA_filtered, sampleB_filtered)[1]))\n",
    "print(\"La conversión en el grupo B es mejor en {0:.0f}%\".\n",
    "      format((sampleB_filtered.mean()/sampleA_filtered.mean()-1)*100))"
   ]
  },
  {
   "cell_type": "markdown",
   "metadata": {},
   "source": [
    "Los datos muestran que hay una diferencia real en la tasa de conversión entre los dos grupos, incluso después de eliminar los valores inusuales. La diferencia entre las tasas de conversión de los dos grupos es prácticamente la misma, lo que sugiere que los valores inusuales no tuvieron un impacto significativo en la tasa de conversión general."
   ]
  },
  {
   "cell_type": "markdown",
   "metadata": {},
   "source": [
    "<div class=\"alert alert-block alert-success\">\n",
    "    \n",
    "<b>Comentario del revisor </b> <a class=\"tocSkip\"></a>\n",
    "    \n",
    "Bien hecho.\n",
    "</div>\n"
   ]
  },
  {
   "cell_type": "markdown",
   "metadata": {},
   "source": [
    "### Significación estadística de la diferencia en el tamaño medio de los pedidos entre los grupos utilizando los datos filtrados."
   ]
  },
  {
   "cell_type": "code",
   "execution_count": 57,
   "metadata": {},
   "outputs": [],
   "source": [
    "revenue_A_filtered = (\n",
    "    orders_filtered[(np.logical_not(orders_filtered['visitorId'].\n",
    "                                   isin(abnormalUsers)))                \n",
    "                   & (orders_filtered['group'] == 'A')])['revenue']\n",
    "revenue_B_filtered = (\n",
    "    orders_filtered[(np.logical_not(orders_filtered['visitorId'].\n",
    "                                   isin(abnormalUsers)))                \n",
    "                   & (orders_filtered['group'] == 'B')])['revenue']"
   ]
  },
  {
   "cell_type": "code",
   "execution_count": 58,
   "metadata": {},
   "outputs": [
    {
     "name": "stdout",
     "output_type": "stream",
     "text": [
      "P-value : 0.810\n",
      "El tamaño medio de los pedidos en el grupo B es mejor en 4.6%\n"
     ]
    }
   ],
   "source": [
    "print(\"P-value : {0:.3f}\"\n",
    "      .format(st.mannwhitneyu(revenue_A_filtered, revenue_B_filtered)[1]))\n",
    "print(\"El tamaño medio de los pedidos en el grupo B es mejor en {0:.1f}%\"\n",
    "      .format((revenue_B_filtered.mean()/revenue_A_filtered.mean()-1)*100))"
   ]
  },
  {
   "cell_type": "markdown",
   "metadata": {},
   "source": [
    "El p-value es 0.992, considerablemente más alto que 0.05, por lo que no hay razón para rechazar la hipótesis nula y concluir que el tamaño medio del pedido difiere entre los grupos.\n",
    "\n",
    "En los datos filtrados, el tamaño medio del pedido para el grupo B es el mismo que para el grupo A. Puedo concluir que los valores anómalos influyeron mucho en el resultado obtenido anteriormente. Sin valores anómalos, el valor medio del pedido no cambia."
   ]
  },
  {
   "cell_type": "markdown",
   "metadata": {},
   "source": [
    "- La prueba A/B mostró que hay una diferencia real en la tasa de conversión entre los grupos A y B, tanto en los datos sin procesar como en los datos filtrados. Sin embargo, no hay una diferencia real en el tamaño promedio de pedido entre los dos grupos, ni en los datos sin procesar ni en los datos filtrados.\n",
    "\n",
    "- En otras palabras, los cambios que implementé en el grupo B llevaron a un aumento en el número de clientes que realizaron una compra, pero no afectaron el monto promedio que gastaron los clientes."
   ]
  },
  {
   "cell_type": "markdown",
   "metadata": {},
   "source": [
    "### Decisión basado en los resultados de las pruebas"
   ]
  },
  {
   "cell_type": "markdown",
   "metadata": {},
   "source": [
    "Según los datos que tenemos, recomiendo que se paren de hacer pruebas. Los resultados son positivos, ya que los datos muestran que los dos grupos son diferentes y que el grupo B tiene un mejor rendimiento del 19%. Además, el valor promedio del pedido no ha cambiado entre los dos grupos, lo que significa que nuestro cambio aumentará las ventas sin afectar el valor promedio del pedido."
   ]
  },
  {
   "cell_type": "markdown",
   "metadata": {},
   "source": [
    "# Conclusiones"
   ]
  },
  {
   "cell_type": "markdown",
   "metadata": {},
   "source": [
    "En este proyecto, descubrí que algunos usuarios participaron en dos grupos a la vez, lo cual está mal, ya que en una prueba A/B cada usuario solo debe ver una versión del sitio. Por lo tanto, se debe verificar que el método para mostrarle a cada usuario una u otra versión del sitio esté funcionando bien.\n",
    "\n",
    "Priorizé las pruebas de hipótesis utilizando el método RICE.\n",
    "\n",
    "Las siguientes hipótesis fueron las más importantes:\n",
    "\n",
    "1. Agregar un formulario de suscripción a todas las páginas principales.\n",
    "\n",
    "2. Agregar bloques de recomendación de productos al sitio de la tienda.\n",
    "\n",
    "Pude obtener los resultados de las pruebas A/B. Los resultados aparentemente son buenos, ya que muestran que la tasa de conversión aumentará cuando se hagan los cambios y el precio promedio seguirá siendo el mismo.\n",
    "\n",
    "Al analizar los datos, pude ver que más del 96% de los clientes solo hacen un pedido de hasta $413. Sin embargo, hay algunos clientes(minoría) que hacen 3 o más pedidos."
   ]
  },
  {
   "cell_type": "markdown",
   "metadata": {},
   "source": [
    "<div class=\"alert alert-block alert-danger\">\n",
    "    \n",
    "<b>Comentario del revisor</b> <a class=\"tocSkip\"></a>\n",
    "\n",
    "# Comentario General\n",
    " \n",
    "~~Hola Cesar, te felicito por el desarrollo del proyecto hasta el momento. He dejado un comentario en rojo para que puedas tener en cuenta.~~\n",
    "</div>\n",
    "\n",
    "<div class=\"alert alert-block alert-success\">\n",
    "    \n",
    "<b>Comentario del revisor</b> <a class=\"tocSkip\"></a>\n",
    "\n",
    "# Comentario General #2\n",
    " \n",
    "Hola Cesar, te felicito por la culminación del proyecto.\n",
    "</div>\n",
    "\n"
   ]
  }
 ],
 "metadata": {
  "kernelspec": {
   "display_name": "Python 3 (ipykernel)",
   "language": "python",
   "name": "python3"
  },
  "language_info": {
   "codemirror_mode": {
    "name": "ipython",
    "version": 3
   },
   "file_extension": ".py",
   "mimetype": "text/x-python",
   "name": "python",
   "nbconvert_exporter": "python",
   "pygments_lexer": "ipython3",
   "version": "3.9.19"
  },
  "toc": {
   "base_numbering": 1,
   "nav_menu": {},
   "number_sections": true,
   "sideBar": true,
   "skip_h1_title": true,
   "title_cell": "Table of Contents",
   "title_sidebar": "Contents",
   "toc_cell": false,
   "toc_position": {},
   "toc_section_display": true,
   "toc_window_display": false
  }
 },
 "nbformat": 4,
 "nbformat_minor": 2
}
